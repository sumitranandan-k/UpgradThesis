{
 "cells": [
  {
   "cell_type": "code",
   "execution_count": 1,
   "id": "dynamic-basket",
   "metadata": {},
   "outputs": [],
   "source": [
    "%load_ext autoreload\n",
    "%autoreload 2"
   ]
  },
  {
   "cell_type": "code",
   "execution_count": 2,
   "id": "scenic-contributor",
   "metadata": {},
   "outputs": [],
   "source": [
    "import pandas as pd\n",
    "import numpy as np\n"
   ]
  },
  {
   "cell_type": "markdown",
   "id": "compound-magnet",
   "metadata": {},
   "source": [
    "### 1. Import Cleaned Data\n",
    "- Rows: 17,545,457\n",
    "- Columns: 86"
   ]
  },
  {
   "cell_type": "code",
   "execution_count": 3,
   "id": "shared-rover",
   "metadata": {},
   "outputs": [
    {
     "name": "stdout",
     "output_type": "stream",
     "text": [
      "<class 'pandas.core.frame.DataFrame'>\n",
      "RangeIndex: 26204358 entries, 0 to 26204357\n",
      "Data columns (total 86 columns):\n",
      " #   Column                                    Dtype \n",
      "---  ------                                    ----- \n",
      " 0   activity_year                             object\n",
      " 1   lei                                       object\n",
      " 2   derived_msa_md                            object\n",
      " 3   state_code                                object\n",
      " 4   county_code                               object\n",
      " 5   census_tract                              object\n",
      " 6   conforming_loan_limit                     object\n",
      " 7   action_taken                              object\n",
      " 8   purchaser_type                            object\n",
      " 9   preapproval                               object\n",
      " 10  loan_type                                 object\n",
      " 11  loan_purpose                              object\n",
      " 12  lien_status                               object\n",
      " 13  reverse_mortgage                          object\n",
      " 14  open_end_line_of_credit                   object\n",
      " 15  business_or_commercial_purpose            object\n",
      " 16  loan_amount                               object\n",
      " 17  combined_loan_to_value_ratio              object\n",
      " 18  interest_rate                             object\n",
      " 19  rate_spread                               object\n",
      " 20  hoepa_status                              object\n",
      " 21  total_loan_costs                          object\n",
      " 22  total_points_and_fees                     object\n",
      " 23  origination_charges                       object\n",
      " 24  discount_points                           object\n",
      " 25  lender_credits                            object\n",
      " 26  loan_term                                 object\n",
      " 27  prepayment_penalty_term                   object\n",
      " 28  intro_rate_period                         object\n",
      " 29  negative_amortization                     object\n",
      " 30  interest_only_payment                     object\n",
      " 31  balloon_payment                           object\n",
      " 32  other_nonamortizing_features              object\n",
      " 33  property_value                            object\n",
      " 34  construction_method                       object\n",
      " 35  occupancy_type                            object\n",
      " 36  manufactured_home_secured_property_type   object\n",
      " 37  manufactured_home_land_property_interest  object\n",
      " 38  total_units                               object\n",
      " 39  multifamily_affordable_units              object\n",
      " 40  income                                    object\n",
      " 41  debt_to_income_ratio                      object\n",
      " 42  applicant_credit_score_type               object\n",
      " 43  co_applicant_credit_score_type            object\n",
      " 44  applicant_ethnicity_1                     object\n",
      " 45  co_applicant_ethnicity_1                  object\n",
      " 46  applicant_ethnicity_observed              object\n",
      " 47  co_applicant_ethnicity_observed           object\n",
      " 48  applicant_race_1                          object\n",
      " 49  co_applicant_race_1                       object\n",
      " 50  applicant_race_observed                   object\n",
      " 51  co_applicant_race_observed                object\n",
      " 52  applicant_sex                             object\n",
      " 53  co_applicant_sex                          object\n",
      " 54  applicant_sex_observed                    object\n",
      " 55  co_applicant_sex_observed                 object\n",
      " 56  applicant_age                             object\n",
      " 57  co_applicant_age                          object\n",
      " 58  applicant_age_above_62                    object\n",
      " 59  co_applicant_age_above_62                 object\n",
      " 60  submission_of_application                 object\n",
      " 61  initially_payable_to_institution          object\n",
      " 62  aus_1                                     object\n",
      " 63  aus_2                                     object\n",
      " 64  aus_3                                     object\n",
      " 65  aus_4                                     object\n",
      " 66  aus_5                                     object\n",
      " 67  denial_reason_1                           object\n",
      " 68  denial_reason_2                           object\n",
      " 69  denial_reason_3                           object\n",
      " 70  denial_reason_4                           object\n",
      " 71  tract_population                          object\n",
      " 72  tract_minority_population_percent         object\n",
      " 73  ffiec_msa_md_median_family_income         object\n",
      " 74  tract_to_msa_income_percentage            object\n",
      " 75  tract_owner_occupied_units                object\n",
      " 76  tract_one_to_four_family_homes            object\n",
      " 77  tract_median_age_of_housing_units         object\n",
      " 78  state_fips                                object\n",
      " 79  county_fips                               object\n",
      " 80  app_race_ethnicity                        object\n",
      " 81  coapp_race_ethnicity                      object\n",
      " 82  coapp_same_race                           object\n",
      " 83  app_credit_model                          object\n",
      " 84  co_applicant                              object\n",
      " 85  loan_outcome                              object\n",
      "dtypes: object(86)\n",
      "memory usage: 16.8+ GB\n"
     ]
    }
   ],
   "source": [
    "hmda21_df = pd.read_csv('C:\\Temp\\hmda21_cleaned.csv', dtype = str)\n",
    "\n",
    "hmda21_df.info()"
   ]
  },
  {
   "cell_type": "markdown",
   "id": "fewer-celtic",
   "metadata": {},
   "source": [
    "### 2. Join with Lender Info"
   ]
  },
  {
   "cell_type": "code",
   "execution_count": 4,
   "id": "mobile-vessel",
   "metadata": {},
   "outputs": [
    {
     "name": "stdout",
     "output_type": "stream",
     "text": [
      "<class 'pandas.core.frame.DataFrame'>\n",
      "RangeIndex: 5508 entries, 0 to 5507\n",
      "Data columns (total 8 columns):\n",
      " #   Column           Non-Null Count  Dtype \n",
      "---  ------           --------------  ----- \n",
      " 0   lei              5508 non-null   object\n",
      " 1   agency_code      5508 non-null   object\n",
      " 2   respondent_name  5508 non-null   object\n",
      " 3   lar_count        5508 non-null   object\n",
      " 4   assets           5508 non-null   object\n",
      " 5   lender_def       5508 non-null   object\n",
      " 6   lender_size      5508 non-null   object\n",
      " 7   con_apps         5148 non-null   object\n",
      "dtypes: object(8)\n",
      "memory usage: 344.4+ KB\n"
     ]
    }
   ],
   "source": [
    "lender_def = pd.read_csv('C:\\Temp\\lender_definitions_20210804.csv', dtype = str)\n",
    "\n",
    "lender_def.info()"
   ]
  },
  {
   "cell_type": "code",
   "execution_count": 5,
   "id": "behavioral-vietnam",
   "metadata": {},
   "outputs": [
    {
     "data": {
      "text/html": [
       "<div>\n",
       "<style scoped>\n",
       "    .dataframe tbody tr th:only-of-type {\n",
       "        vertical-align: middle;\n",
       "    }\n",
       "\n",
       "    .dataframe tbody tr th {\n",
       "        vertical-align: top;\n",
       "    }\n",
       "\n",
       "    .dataframe thead th {\n",
       "        text-align: right;\n",
       "    }\n",
       "</style>\n",
       "<table border=\"1\" class=\"dataframe\">\n",
       "  <thead>\n",
       "    <tr style=\"text-align: right;\">\n",
       "      <th></th>\n",
       "      <th>lei</th>\n",
       "      <th>lar_count</th>\n",
       "      <th>assets</th>\n",
       "      <th>lender_def</th>\n",
       "      <th>con_apps</th>\n",
       "    </tr>\n",
       "  </thead>\n",
       "  <tbody>\n",
       "    <tr>\n",
       "      <th>0</th>\n",
       "      <td>254900ZBZ4M7TCGJWL09</td>\n",
       "      <td>2</td>\n",
       "      <td>48362</td>\n",
       "      <td>2</td>\n",
       "      <td>1.0</td>\n",
       "    </tr>\n",
       "  </tbody>\n",
       "</table>\n",
       "</div>"
      ],
      "text/plain": [
       "                    lei lar_count assets lender_def con_apps\n",
       "0  254900ZBZ4M7TCGJWL09         2  48362          2      1.0"
      ]
     },
     "execution_count": 5,
     "metadata": {},
     "output_type": "execute_result"
    }
   ],
   "source": [
    "lender_def2 = lender_def[['lei', 'lar_count', 'assets', 'lender_def', 'con_apps']].copy()\n",
    "lender_def2.head(1)"
   ]
  },
  {
   "cell_type": "code",
   "execution_count": 6,
   "id": "incident-kenya",
   "metadata": {},
   "outputs": [],
   "source": [
    "hmda21_df = pd.merge(hmda21_df, lender_def2, how = 'left', on = ['lei'])"
   ]
  },
  {
   "cell_type": "code",
   "execution_count": 7,
   "id": "lucky-designation",
   "metadata": {},
   "outputs": [
    {
     "data": {
      "text/plain": [
       "283974"
      ]
     },
     "execution_count": 7,
     "metadata": {},
     "output_type": "execute_result"
    }
   ],
   "source": [
    "hmda21_df['lar_count'].isnull().values.sum()"
   ]
  },
  {
   "cell_type": "code",
   "execution_count": 11,
   "id": "a031ea13",
   "metadata": {},
   "outputs": [],
   "source": [
    "hmda21_df = hmda21_df[hmda21_df['lar_count'].notna()]"
   ]
  },
  {
   "cell_type": "code",
   "execution_count": 12,
   "id": "fa3850dc",
   "metadata": {
    "scrolled": true
   },
   "outputs": [
    {
     "data": {
      "text/plain": [
       "0"
      ]
     },
     "execution_count": 12,
     "metadata": {},
     "output_type": "execute_result"
    }
   ],
   "source": [
    "hmda21_df['lar_count'].isnull().values.sum()"
   ]
  },
  {
   "cell_type": "markdown",
   "id": "located-milan",
   "metadata": {},
   "source": [
    "#### Lender Definition\n",
    "Only 30,000 records, less than one percent,  in overall HMDA data come from no definitions for lenders.\n",
    "- 1: Banks\n",
    "- 2: Credit Union\n",
    "- 3: Independent Mortgage Companies\n",
    "- 4: No definition "
   ]
  },
  {
   "cell_type": "code",
   "execution_count": 14,
   "id": "young-saint",
   "metadata": {},
   "outputs": [
    {
     "name": "stdout",
     "output_type": "stream",
     "text": [
      "3    61.334732\n",
      "1    29.591572\n",
      "2     8.913788\n",
      "4     0.159909\n",
      "Name: lender_def, dtype: float64\n"
     ]
    }
   ],
   "source": [
    "print(hmda21_df['lender_def'].value_counts(dropna = False, normalize = True) * 100)"
   ]
  },
  {
   "cell_type": "markdown",
   "id": "fifth-teddy",
   "metadata": {},
   "source": [
    "### 3. Adding Metro Definitions"
   ]
  },
  {
   "cell_type": "code",
   "execution_count": 19,
   "id": "progressive-chapel",
   "metadata": {},
   "outputs": [
    {
     "name": "stdout",
     "output_type": "stream",
     "text": [
      "<class 'pandas.core.frame.DataFrame'>\n",
      "RangeIndex: 3225 entries, 0 to 3224\n",
      "Data columns (total 14 columns):\n",
      " #   Column            Non-Null Count  Dtype \n",
      "---  ------            --------------  ----- \n",
      " 0   fips_state_code   3224 non-null   object\n",
      " 1   fips_county_code  3224 non-null   object\n",
      " 2   county_name       3220 non-null   object\n",
      " 3   state_name        3220 non-null   object\n",
      " 4   cbsa_code         1916 non-null   object\n",
      " 5   cbsa_title        1916 non-null   object\n",
      " 6   csa_code          1256 non-null   object\n",
      " 7   csa_title         1256 non-null   object\n",
      " 8   metro_type        3225 non-null   object\n",
      " 9   metro_code        1916 non-null   object\n",
      " 10  metro_name        1916 non-null   object\n",
      " 11  metro_pop         1915 non-null   object\n",
      " 12  metro_percentile  3225 non-null   object\n",
      " 13  metro_type_def    3225 non-null   object\n",
      "dtypes: object(14)\n",
      "memory usage: 352.9+ KB\n"
     ]
    }
   ],
   "source": [
    "counties_df = pd.read_csv('C:\\Temp\\counties_210804.csv', dtype = str)\n",
    "\n",
    "counties_df.info()"
   ]
  },
  {
   "cell_type": "code",
   "execution_count": 20,
   "id": "assured-marijuana",
   "metadata": {},
   "outputs": [
    {
     "data": {
      "text/html": [
       "<div>\n",
       "<style scoped>\n",
       "    .dataframe tbody tr th:only-of-type {\n",
       "        vertical-align: middle;\n",
       "    }\n",
       "\n",
       "    .dataframe tbody tr th {\n",
       "        vertical-align: top;\n",
       "    }\n",
       "\n",
       "    .dataframe thead th {\n",
       "        text-align: right;\n",
       "    }\n",
       "</style>\n",
       "<table border=\"1\" class=\"dataframe\">\n",
       "  <thead>\n",
       "    <tr style=\"text-align: right;\">\n",
       "      <th></th>\n",
       "      <th>state_fips</th>\n",
       "      <th>county_fips</th>\n",
       "      <th>metro_code</th>\n",
       "      <th>metro_type_def</th>\n",
       "      <th>metro_percentile</th>\n",
       "    </tr>\n",
       "  </thead>\n",
       "  <tbody>\n",
       "    <tr>\n",
       "      <th>0</th>\n",
       "      <td>02</td>\n",
       "      <td>013</td>\n",
       "      <td>NaN</td>\n",
       "      <td>4</td>\n",
       "      <td>000</td>\n",
       "    </tr>\n",
       "  </tbody>\n",
       "</table>\n",
       "</div>"
      ],
      "text/plain": [
       "  state_fips county_fips metro_code metro_type_def metro_percentile\n",
       "0         02         013        NaN              4              000"
      ]
     },
     "execution_count": 20,
     "metadata": {},
     "output_type": "execute_result"
    }
   ],
   "source": [
    "counties_df2 = counties_df[['fips_state_code', 'fips_county_code', 'metro_code', 'metro_type_def',\n",
    "                            'metro_percentile']].copy()\n",
    "\n",
    "counties_df2 = counties_df2.rename(columns = {'fips_state_code': 'state_fips', \n",
    "                                              'fips_county_code': 'county_fips'})\n",
    "\n",
    "counties_df2.head(1)"
   ]
  },
  {
   "cell_type": "markdown",
   "id": "universal-setup",
   "metadata": {},
   "source": [
    "#### Metro Percentile Definitions\n",
    "Majority of applications come from metros in the 80th percentile or larger ones.\n",
    "\n",
    "- 111: Micro\n",
    "- 000: No Metro\n",
    "- 99: 99th percentile\n",
    "- 9: 90th percentile"
   ]
  },
  {
   "cell_type": "code",
   "execution_count": 21,
   "id": "crazy-compromise",
   "metadata": {},
   "outputs": [
    {
     "data": {
      "text/plain": [
       "9      35.750493\n",
       "8      15.832412\n",
       "99     10.245766\n",
       "7       9.278223\n",
       "111     6.095461\n",
       "6       5.744830\n",
       "000     4.641883\n",
       "5       3.751329\n",
       "4       2.639853\n",
       "3       2.151326\n",
       "2       1.666978\n",
       "1       1.265440\n",
       "0       0.935958\n",
       "NaN     0.000046\n",
       "Name: metro_percentile, dtype: float64"
      ]
     },
     "execution_count": 21,
     "metadata": {},
     "output_type": "execute_result"
    }
   ],
   "source": [
    "hmda21_df = pd.merge(hmda21_df, counties_df2, how = 'left', on = ['state_fips', 'county_fips'])\n",
    "\n",
    "hmda21_df['metro_percentile'].value_counts(dropna = False, normalize = True) * 100"
   ]
  },
  {
   "cell_type": "markdown",
   "id": "previous-extreme",
   "metadata": {},
   "source": [
    "### 4. Add Property Value by County"
   ]
  },
  {
   "cell_type": "code",
   "execution_count": 22,
   "id": "appropriate-profit",
   "metadata": {},
   "outputs": [
    {
     "name": "stdout",
     "output_type": "stream",
     "text": [
      "<class 'pandas.core.frame.DataFrame'>\n",
      "RangeIndex: 3221 entries, 0 to 3220\n",
      "Data columns (total 4 columns):\n",
      " #   Column       Non-Null Count  Dtype \n",
      "---  ------       --------------  ----- \n",
      " 0   GEO_ID       3221 non-null   object\n",
      " 1   NAME         3221 non-null   object\n",
      " 2   B25077_001E  3221 non-null   object\n",
      " 3   B25077_001M  3221 non-null   object\n",
      "dtypes: object(4)\n",
      "memory usage: 100.8+ KB\n"
     ]
    }
   ],
   "source": [
    "prop_values_df = pd.read_csv('C:\\Temp\\countryPropertValues23T115616.csv', dtype = str)\n",
    "\n",
    "prop_values_df.info()"
   ]
  },
  {
   "cell_type": "markdown",
   "id": "needed-swift",
   "metadata": {},
   "source": [
    "#### First pass at cleaning median property value data"
   ]
  },
  {
   "cell_type": "code",
   "execution_count": 23,
   "id": "changing-shoot",
   "metadata": {},
   "outputs": [
    {
     "name": "stdout",
     "output_type": "stream",
     "text": [
      "<class 'pandas.core.frame.DataFrame'>\n",
      "Int64Index: 3220 entries, 1 to 3220\n",
      "Data columns (total 3 columns):\n",
      " #   Column        Non-Null Count  Dtype \n",
      "---  ------        --------------  ----- \n",
      " 0   state_fips    3220 non-null   object\n",
      " 1   county_fips   3220 non-null   object\n",
      " 2   median_value  3220 non-null   object\n",
      "dtypes: object(3)\n",
      "memory usage: 100.6+ KB\n"
     ]
    }
   ],
   "source": [
    "prop_values_df2 = prop_values_df[(prop_values_df['GEO_ID'] != 'id')]\n",
    "\n",
    "prop_values_df3 = prop_values_df2.rename(columns = {'B25077_001E': 'median_value', \n",
    "                                                    'B25077_001M': 'median_value_moe'})\n",
    "\n",
    "prop_values_df3['state_fips'] = prop_values_df3['GEO_ID'].str[9:11]\n",
    "prop_values_df3['county_fips'] = prop_values_df3['GEO_ID'].str[11:]\n",
    "\n",
    "prop_values_df4 = prop_values_df3[['state_fips', 'county_fips', 'median_value']].copy()\n",
    "\n",
    "\n",
    "prop_values_df4.info()"
   ]
  },
  {
   "cell_type": "markdown",
   "id": "domestic-bradley",
   "metadata": {},
   "source": [
    "#### Convert property value to numeric\n",
    "- No property value for these two counties"
   ]
  },
  {
   "cell_type": "code",
   "execution_count": 24,
   "id": "romance-revelation",
   "metadata": {},
   "outputs": [
    {
     "data": {
      "text/html": [
       "<div>\n",
       "<style scoped>\n",
       "    .dataframe tbody tr th:only-of-type {\n",
       "        vertical-align: middle;\n",
       "    }\n",
       "\n",
       "    .dataframe tbody tr th {\n",
       "        vertical-align: top;\n",
       "    }\n",
       "\n",
       "    .dataframe thead th {\n",
       "        text-align: right;\n",
       "    }\n",
       "</style>\n",
       "<table border=\"1\" class=\"dataframe\">\n",
       "  <thead>\n",
       "    <tr style=\"text-align: right;\">\n",
       "      <th></th>\n",
       "      <th>state_fips</th>\n",
       "      <th>county_fips</th>\n",
       "      <th>median_value</th>\n",
       "    </tr>\n",
       "  </thead>\n",
       "  <tbody>\n",
       "    <tr>\n",
       "      <th>549</th>\n",
       "      <td>15</td>\n",
       "      <td>005</td>\n",
       "      <td>-</td>\n",
       "    </tr>\n",
       "    <tr>\n",
       "      <th>2674</th>\n",
       "      <td>48</td>\n",
       "      <td>301</td>\n",
       "      <td>-</td>\n",
       "    </tr>\n",
       "  </tbody>\n",
       "</table>\n",
       "</div>"
      ],
      "text/plain": [
       "     state_fips county_fips median_value\n",
       "549          15         005            -\n",
       "2674         48         301            -"
      ]
     },
     "execution_count": 24,
     "metadata": {},
     "output_type": "execute_result"
    }
   ],
   "source": [
    "prop_values_df4[(prop_values_df4['median_value'] == '-')]"
   ]
  },
  {
   "cell_type": "code",
   "execution_count": 25,
   "id": "threatened-mixer",
   "metadata": {},
   "outputs": [
    {
     "data": {
      "text/html": [
       "<div>\n",
       "<style scoped>\n",
       "    .dataframe tbody tr th:only-of-type {\n",
       "        vertical-align: middle;\n",
       "    }\n",
       "\n",
       "    .dataframe tbody tr th {\n",
       "        vertical-align: top;\n",
       "    }\n",
       "\n",
       "    .dataframe thead th {\n",
       "        text-align: right;\n",
       "    }\n",
       "</style>\n",
       "<table border=\"1\" class=\"dataframe\">\n",
       "  <thead>\n",
       "    <tr style=\"text-align: right;\">\n",
       "      <th></th>\n",
       "      <th>state_fips</th>\n",
       "      <th>county_fips</th>\n",
       "      <th>median_value</th>\n",
       "      <th>median_prop_value</th>\n",
       "    </tr>\n",
       "  </thead>\n",
       "  <tbody>\n",
       "    <tr>\n",
       "      <th>549</th>\n",
       "      <td>15</td>\n",
       "      <td>005</td>\n",
       "      <td>-</td>\n",
       "      <td>NaN</td>\n",
       "    </tr>\n",
       "    <tr>\n",
       "      <th>2674</th>\n",
       "      <td>48</td>\n",
       "      <td>301</td>\n",
       "      <td>-</td>\n",
       "      <td>NaN</td>\n",
       "    </tr>\n",
       "  </tbody>\n",
       "</table>\n",
       "</div>"
      ],
      "text/plain": [
       "     state_fips county_fips median_value  median_prop_value\n",
       "549          15         005            -                NaN\n",
       "2674         48         301            -                NaN"
      ]
     },
     "execution_count": 25,
     "metadata": {},
     "output_type": "execute_result"
    }
   ],
   "source": [
    "prop_values_df4.loc[(prop_values_df4['median_value'] != '-'), 'median_prop_value'] = prop_values_df4['median_value']\n",
    "prop_values_df4.loc[(prop_values_df4['median_value'] == '-'), 'median_prop_value'] = np.nan\n",
    "prop_values_df4['median_prop_value'] = pd.to_numeric(prop_values_df4['median_prop_value'])\n",
    "\n",
    "prop_values_df4[(prop_values_df4['median_prop_value'].isnull())]"
   ]
  },
  {
   "cell_type": "code",
   "execution_count": 26,
   "id": "classical-ultimate",
   "metadata": {},
   "outputs": [],
   "source": [
    "hmda21_df = pd.merge(hmda21_df, prop_values_df4, how = 'left', on = ['state_fips', 'county_fips'])"
   ]
  },
  {
   "cell_type": "code",
   "execution_count": 27,
   "id": "colonial-indian",
   "metadata": {},
   "outputs": [],
   "source": [
    "hmda21_df.loc[(hmda21_df['property_value'] != 'Exempt'), 'prop_value'] = hmda21_df['property_value']\n",
    "\n",
    "hmda21_df.loc[(hmda21_df['property_value'] == 'Exempt'), 'prop_value'] = np.nan\n",
    "\n",
    "hmda21_df['prop_value'] = pd.to_numeric(hmda21_df['prop_value'])"
   ]
  },
  {
   "cell_type": "markdown",
   "id": "hungry-tutorial",
   "metadata": {},
   "source": [
    "### 5. Add Race and Ethnicity Demographic per Census Tract"
   ]
  },
  {
   "cell_type": "code",
   "execution_count": 28,
   "id": "considered-figure",
   "metadata": {},
   "outputs": [
    {
     "name": "stdout",
     "output_type": "stream",
     "text": [
      "<class 'pandas.core.frame.DataFrame'>\n",
      "RangeIndex: 74001 entries, 0 to 74000\n",
      "Data columns (total 28 columns):\n",
      " #   Column                 Non-Null Count  Dtype \n",
      "---  ------                 --------------  ----- \n",
      " 0   year                   74001 non-null  object\n",
      " 1   state                  74001 non-null  object\n",
      " 2   county                 74001 non-null  object\n",
      " 3   tract                  74001 non-null  object\n",
      " 4   total_estimate         74001 non-null  object\n",
      " 5   total_moe              74001 non-null  object\n",
      " 6   white_alone            74001 non-null  object\n",
      " 7   white_alone_moe        74001 non-null  object\n",
      " 8   black_alone            74001 non-null  object\n",
      " 9   black_alone_moe        74001 non-null  object\n",
      " 10  native_alone           74001 non-null  object\n",
      " 11  native_alone_moe       74001 non-null  object\n",
      " 12  asian_alone            74001 non-null  object\n",
      " 13  asian_moe              74001 non-null  object\n",
      " 14  pacislander_alone      74001 non-null  object\n",
      " 15  pacislander_alone_moe  74001 non-null  object\n",
      " 16  latino_alone           74001 non-null  object\n",
      " 17  latino_moe             74001 non-null  object\n",
      " 18  asian_cb               74001 non-null  object\n",
      " 19  other_cb               74001 non-null  object\n",
      " 20  white_pct              73298 non-null  object\n",
      " 21  black_pct              73298 non-null  object\n",
      " 22  native_pct             73298 non-null  object\n",
      " 23  asian_pct              73298 non-null  object\n",
      " 24  pacislander_pct        73298 non-null  object\n",
      " 25  latino_pct             73298 non-null  object\n",
      " 26  asiancb_pct            73298 non-null  object\n",
      " 27  othercb_pct            73298 non-null  object\n",
      "dtypes: object(28)\n",
      "memory usage: 15.8+ MB\n"
     ]
    }
   ],
   "source": [
    "race_df = pd.read_csv('C:\\Temp\\demographics_210204.csv',\n",
    "                     dtype = str)\n",
    "\n",
    "race_df.info()"
   ]
  },
  {
   "cell_type": "code",
   "execution_count": 29,
   "id": "fundamental-chair",
   "metadata": {},
   "outputs": [
    {
     "data": {
      "text/html": [
       "<div>\n",
       "<style scoped>\n",
       "    .dataframe tbody tr th:only-of-type {\n",
       "        vertical-align: middle;\n",
       "    }\n",
       "\n",
       "    .dataframe tbody tr th {\n",
       "        vertical-align: top;\n",
       "    }\n",
       "\n",
       "    .dataframe thead th {\n",
       "        text-align: right;\n",
       "    }\n",
       "</style>\n",
       "<table border=\"1\" class=\"dataframe\">\n",
       "  <thead>\n",
       "    <tr style=\"text-align: right;\">\n",
       "      <th></th>\n",
       "      <th>census_tract</th>\n",
       "      <th>total_estimate</th>\n",
       "      <th>white_pct</th>\n",
       "      <th>black_pct</th>\n",
       "      <th>native_pct</th>\n",
       "      <th>latino_pct</th>\n",
       "      <th>asian_pct</th>\n",
       "      <th>pacislander_pct</th>\n",
       "      <th>othercb_pct</th>\n",
       "      <th>asiancb_pct</th>\n",
       "    </tr>\n",
       "  </thead>\n",
       "  <tbody>\n",
       "    <tr>\n",
       "      <th>6006</th>\n",
       "      <td>48479000300</td>\n",
       "      <td>1859</td>\n",
       "      <td>0.376547</td>\n",
       "      <td>0.21516944593867668</td>\n",
       "      <td>0.0</td>\n",
       "      <td>99.40828402366864</td>\n",
       "      <td>0.0</td>\n",
       "      <td>0.0</td>\n",
       "      <td>0.0</td>\n",
       "      <td>0.0</td>\n",
       "    </tr>\n",
       "    <tr>\n",
       "      <th>23211</th>\n",
       "      <td>39057240100</td>\n",
       "      <td>3026</td>\n",
       "      <td>90.647720</td>\n",
       "      <td>4.758757435558493</td>\n",
       "      <td>0.0</td>\n",
       "      <td>2.4124256444150696</td>\n",
       "      <td>0.0</td>\n",
       "      <td>0.0</td>\n",
       "      <td>2.181097157964309</td>\n",
       "      <td>0.0</td>\n",
       "    </tr>\n",
       "  </tbody>\n",
       "</table>\n",
       "</div>"
      ],
      "text/plain": [
       "      census_tract total_estimate  white_pct            black_pct native_pct  \\\n",
       "6006   48479000300           1859   0.376547  0.21516944593867668        0.0   \n",
       "23211  39057240100           3026  90.647720    4.758757435558493        0.0   \n",
       "\n",
       "               latino_pct asian_pct pacislander_pct        othercb_pct  \\\n",
       "6006    99.40828402366864       0.0             0.0                0.0   \n",
       "23211  2.4124256444150696       0.0             0.0  2.181097157964309   \n",
       "\n",
       "      asiancb_pct  \n",
       "6006          0.0  \n",
       "23211         0.0  "
      ]
     },
     "execution_count": 29,
     "metadata": {},
     "output_type": "execute_result"
    }
   ],
   "source": [
    "race_df['white_pct'] = pd.to_numeric(race_df['white_pct'])\n",
    "\n",
    "race_df['census_tract'] = race_df['state'] + race_df['county'] + race_df['tract']\n",
    "\n",
    "race_df2 = race_df[['census_tract', 'total_estimate', 'white_pct', 'black_pct', 'native_pct', 'latino_pct', \n",
    "                    'asian_pct', 'pacislander_pct', 'othercb_pct', 'asiancb_pct']].copy()\n",
    "\n",
    "race_df2.sample(2, random_state = 303)"
   ]
  },
  {
   "cell_type": "markdown",
   "id": "worse-translator",
   "metadata": {},
   "source": [
    "#### Create White Gradiant"
   ]
  },
  {
   "cell_type": "code",
   "execution_count": 30,
   "id": "identified-blues",
   "metadata": {},
   "outputs": [
    {
     "data": {
      "text/plain": [
       "1    31608\n",
       "2    17416\n",
       "4    13573\n",
       "3    10701\n",
       "5      703\n",
       "Name: diverse_def, dtype: int64"
      ]
     },
     "execution_count": 30,
     "metadata": {},
     "output_type": "execute_result"
    }
   ],
   "source": [
    "race_df2.loc[(race_df2['white_pct'] > 75), 'diverse_def'] = '1'\n",
    "\n",
    "race_df2.loc[(race_df2['white_pct'] <= 75) & (race_df2['white_pct'] > 50), 'diverse_def'] = '2'\n",
    "\n",
    "race_df2.loc[(race_df2['white_pct'] <= 50) & (race_df2['white_pct'] > 25), 'diverse_def'] = '3'\n",
    "\n",
    "race_df2.loc[(race_df2['white_pct'] <= 25), 'diverse_def'] = '4'\n",
    "\n",
    "race_df2.loc[(race_df2['white_pct'].isnull()), 'diverse_def'] = '5'\n",
    "\n",
    "race_df2['diverse_def'].value_counts(dropna = False)"
   ]
  },
  {
   "cell_type": "markdown",
   "id": "brilliant-anthropology",
   "metadata": {},
   "source": [
    "- 0: No census data there\n",
    "- NaN: Records that don't find a match in the census data"
   ]
  },
  {
   "cell_type": "code",
   "execution_count": 31,
   "id": "powered-fleece",
   "metadata": {},
   "outputs": [],
   "source": [
    "hmda21_df = pd.merge(hmda21_df, race_df2, how = 'left', on = ['census_tract'])"
   ]
  },
  {
   "cell_type": "markdown",
   "id": "choice-qatar",
   "metadata": {},
   "source": [
    "Convert the NaN to 0's"
   ]
  },
  {
   "cell_type": "code",
   "execution_count": 32,
   "id": "secret-authentication",
   "metadata": {},
   "outputs": [
    {
     "data": {
      "text/plain": [
       "1    12167849\n",
       "2     7139054\n",
       "3     3678592\n",
       "4     2601437\n",
       "0      333022\n",
       "5         430\n",
       "Name: diverse_def, dtype: int64"
      ]
     },
     "execution_count": 32,
     "metadata": {},
     "output_type": "execute_result"
    }
   ],
   "source": [
    "hmda21_df.loc[(hmda21_df['diverse_def'].isnull()), 'diverse_def'] = '0'\n",
    "\n",
    "hmda21_df['diverse_def'].value_counts(dropna = False)"
   ]
  },
  {
   "cell_type": "markdown",
   "id": "governmental-domain",
   "metadata": {},
   "source": [
    "### 7. Clean Debt-to-Income Ratio"
   ]
  },
  {
   "cell_type": "code",
   "execution_count": 34,
   "id": "sustained-residence",
   "metadata": {},
   "outputs": [
    {
     "data": {
      "text/html": [
       "<div>\n",
       "<style scoped>\n",
       "    .dataframe tbody tr th:only-of-type {\n",
       "        vertical-align: middle;\n",
       "    }\n",
       "\n",
       "    .dataframe tbody tr th {\n",
       "        vertical-align: top;\n",
       "    }\n",
       "\n",
       "    .dataframe thead th {\n",
       "        text-align: right;\n",
       "    }\n",
       "</style>\n",
       "<table border=\"1\" class=\"dataframe\">\n",
       "  <thead>\n",
       "    <tr style=\"text-align: right;\">\n",
       "      <th></th>\n",
       "      <th>debt_to_income_ratio</th>\n",
       "      <th>count</th>\n",
       "    </tr>\n",
       "  </thead>\n",
       "  <tbody>\n",
       "    <tr>\n",
       "      <th>0</th>\n",
       "      <td>null</td>\n",
       "      <td>8941730</td>\n",
       "    </tr>\n",
       "    <tr>\n",
       "      <th>1</th>\n",
       "      <td>20%-&lt;30%</td>\n",
       "      <td>3568956</td>\n",
       "    </tr>\n",
       "  </tbody>\n",
       "</table>\n",
       "</div>"
      ],
      "text/plain": [
       "  debt_to_income_ratio    count\n",
       "0                 null  8941730\n",
       "1             20%-<30%  3568956"
      ]
     },
     "execution_count": 34,
     "metadata": {},
     "output_type": "execute_result"
    }
   ],
   "source": [
    "dti_df = pd.DataFrame(hmda21_df['debt_to_income_ratio'].value_counts(dropna = False)).reset_index().\\\n",
    "         rename(columns = {'index': 'debt_to_income_ratio', 'debt_to_income_ratio': 'count'})\n",
    "\n",
    "### Convert the nulls for cleaning purposes\n",
    "dti_df = dti_df.fillna('null')\n",
    "\n",
    "dti_df.head(2)"
   ]
  },
  {
   "cell_type": "code",
   "execution_count": 36,
   "id": "73fe15a6",
   "metadata": {},
   "outputs": [],
   "source": [
    "def setup_dti_cat(row):\n",
    "    \n",
    "    '''\n",
    "    Setup dti categories based on lenders and CFPB approach to them\n",
    "    '''\n",
    "    \n",
    "    dti = row['debt_to_income_ratio']\n",
    "    \n",
    "    healthy = ['<20%', '20%-<30%', '30%-<36%', ]\n",
    "    manageable = ['36', '37', '38', '39', '40', '41', '42',]\n",
    "    unmanageable = ['43', '44', '45', '46', '47', '48', '49']\n",
    "    struggling = ['50%-60%', '>60%']\n",
    "    \n",
    "    if dti in healthy:\n",
    "        return '1'\n",
    "    elif dti in manageable:\n",
    "        return '2'\n",
    "    elif dti in unmanageable:\n",
    "        return '3'\n",
    "    elif dti in struggling:\n",
    "        return '4'\n",
    "        \n",
    "    elif dti == 'Exempt':\n",
    "        return '5'\n",
    "    elif dti == 'null':\n",
    "        return '6'"
   ]
  },
  {
   "cell_type": "code",
   "execution_count": 37,
   "id": "narrow-banana",
   "metadata": {},
   "outputs": [
    {
     "data": {
      "text/html": [
       "<div>\n",
       "<style scoped>\n",
       "    .dataframe tbody tr th:only-of-type {\n",
       "        vertical-align: middle;\n",
       "    }\n",
       "\n",
       "    .dataframe tbody tr th {\n",
       "        vertical-align: top;\n",
       "    }\n",
       "\n",
       "    .dataframe thead th {\n",
       "        text-align: right;\n",
       "    }\n",
       "</style>\n",
       "<table border=\"1\" class=\"dataframe\">\n",
       "  <thead>\n",
       "    <tr style=\"text-align: right;\">\n",
       "      <th></th>\n",
       "      <th>debt_to_income_ratio</th>\n",
       "      <th>count</th>\n",
       "      <th>dti_cat</th>\n",
       "    </tr>\n",
       "  </thead>\n",
       "  <tbody>\n",
       "    <tr>\n",
       "      <th>0</th>\n",
       "      <td>null</td>\n",
       "      <td>8941730</td>\n",
       "      <td>6</td>\n",
       "    </tr>\n",
       "    <tr>\n",
       "      <th>1</th>\n",
       "      <td>20%-&lt;30%</td>\n",
       "      <td>3568956</td>\n",
       "      <td>1</td>\n",
       "    </tr>\n",
       "  </tbody>\n",
       "</table>\n",
       "</div>"
      ],
      "text/plain": [
       "  debt_to_income_ratio    count dti_cat\n",
       "0                 null  8941730       6\n",
       "1             20%-<30%  3568956       1"
      ]
     },
     "execution_count": 37,
     "metadata": {},
     "output_type": "execute_result"
    }
   ],
   "source": [
    "### Running function to organize debt-to-income ratio\n",
    "dti_df['dti_cat'] = dti_df.apply(setup_dti_cat, axis = 1)\n",
    "\n",
    "dti_df.head(2)"
   ]
  },
  {
   "cell_type": "code",
   "execution_count": 38,
   "id": "sudden-crossing",
   "metadata": {},
   "outputs": [
    {
     "data": {
      "text/html": [
       "<div>\n",
       "<style scoped>\n",
       "    .dataframe tbody tr th:only-of-type {\n",
       "        vertical-align: middle;\n",
       "    }\n",
       "\n",
       "    .dataframe tbody tr th {\n",
       "        vertical-align: top;\n",
       "    }\n",
       "\n",
       "    .dataframe thead th {\n",
       "        text-align: right;\n",
       "    }\n",
       "</style>\n",
       "<table border=\"1\" class=\"dataframe\">\n",
       "  <thead>\n",
       "    <tr style=\"text-align: right;\">\n",
       "      <th></th>\n",
       "      <th>debt_to_income_ratio</th>\n",
       "      <th>dti_cat</th>\n",
       "    </tr>\n",
       "  </thead>\n",
       "  <tbody>\n",
       "    <tr>\n",
       "      <th>0</th>\n",
       "      <td>NaN</td>\n",
       "      <td>6</td>\n",
       "    </tr>\n",
       "    <tr>\n",
       "      <th>1</th>\n",
       "      <td>20%-&lt;30%</td>\n",
       "      <td>1</td>\n",
       "    </tr>\n",
       "  </tbody>\n",
       "</table>\n",
       "</div>"
      ],
      "text/plain": [
       "  debt_to_income_ratio dti_cat\n",
       "0                  NaN       6\n",
       "1             20%-<30%       1"
      ]
     },
     "execution_count": 38,
     "metadata": {},
     "output_type": "execute_result"
    }
   ],
   "source": [
    "### Drop count column and replace the null values back to NaN\n",
    "dti_df2 = dti_df.drop(columns = ['count'], axis = 1)\n",
    "dti_df2 = dti_df2.replace('null', np.nan)\n",
    "\n",
    "dti_df2.head(2)"
   ]
  },
  {
   "cell_type": "markdown",
   "id": "forward-moses",
   "metadata": {},
   "source": [
    "A third of entire dataset is null, when it comes to DTI ratio."
   ]
  },
  {
   "cell_type": "code",
   "execution_count": 39,
   "id": "stopped-worthy",
   "metadata": {},
   "outputs": [
    {
     "data": {
      "text/plain": [
       "6    34.496904\n",
       "1    31.268568\n",
       "2    14.803315\n",
       "3    12.223596\n",
       "4     5.856599\n",
       "5     1.351018\n",
       "Name: dti_cat, dtype: float64"
      ]
     },
     "execution_count": 39,
     "metadata": {},
     "output_type": "execute_result"
    }
   ],
   "source": [
    "hmda21_df = pd.merge(hmda21_df, dti_df2, how = 'left', on = ['debt_to_income_ratio'])\n",
    "\n",
    "hmda21_df['dti_cat'].value_counts(dropna = False, normalize = True) * 100"
   ]
  },
  {
   "cell_type": "markdown",
   "id": "emotional-integrity",
   "metadata": {},
   "source": [
    "### 8. Combine Loan-to-Value Ratio"
   ]
  },
  {
   "cell_type": "code",
   "execution_count": 41,
   "id": "protected-collins",
   "metadata": {},
   "outputs": [],
   "source": [
    "cltv_df = pd.DataFrame(hmda21_df['combined_loan_to_value_ratio'].value_counts(dropna = False)).reset_index().\\\n",
    "          rename(columns = {'index': 'combined_loan_to_value_ratio', 'combined_loan_to_value_ratio': 'count'})\n",
    "\n",
    "### Convert cltv to numeric\n",
    "cltv_df.loc[(cltv_df['combined_loan_to_value_ratio'] != 'Exempt'), 'cltv_ratio'] =\\\n",
    "            cltv_df['combined_loan_to_value_ratio']\n",
    "\n",
    "cltv_df['cltv_ratio'] = pd.to_numeric(cltv_df['cltv_ratio'])"
   ]
  },
  {
   "cell_type": "markdown",
   "id": "voluntary-cycle",
   "metadata": {},
   "source": [
    "#### Downpayment Flag\n",
    "- 1: 20 percent or more downpayment\n",
    "- 2: Less than 20 percent\n",
    "- 3: Nulls"
   ]
  },
  {
   "cell_type": "code",
   "execution_count": 43,
   "id": "ffc8fdcb",
   "metadata": {},
   "outputs": [],
   "source": [
    "def categorize_cltv(row):\n",
    "    \n",
    "    '''\n",
    "    Use CLTV to create a downpayment flag\n",
    "    \n",
    "    '''\n",
    "    \n",
    "    cltv = row['cltv_ratio']\n",
    "    \n",
    "    if cltv <= 80:\n",
    "        return '1'\n",
    "    elif cltv > 80:\n",
    "        return '2'\n",
    "        \n",
    "    else:\n",
    "        return '3'"
   ]
  },
  {
   "cell_type": "code",
   "execution_count": 45,
   "id": "minimal-consciousness",
   "metadata": {},
   "outputs": [
    {
     "data": {
      "text/plain": [
       "1    11692020\n",
       "3     9172974\n",
       "2     5055390\n",
       "Name: downpayment_flag, dtype: int64"
      ]
     },
     "execution_count": 45,
     "metadata": {},
     "output_type": "execute_result"
    }
   ],
   "source": [
    "cltv_df['downpayment_flag'] = cltv_df.apply(categorize_cltv, axis = 1)\n",
    "cltv_df2 = cltv_df.drop(columns = ['count', 'cltv_ratio'], axis = 1)\n",
    "\n",
    "\n",
    "hmda21_df = pd.merge(hmda21_df, cltv_df2, how = 'left', on = ['combined_loan_to_value_ratio'])\n",
    "hmda21_df['downpayment_flag'].value_counts(dropna = False)"
   ]
  },
  {
   "cell_type": "markdown",
   "id": "universal-provider",
   "metadata": {},
   "source": [
    "### 9. Property Value Ratio Z-Score\n",
    "\n",
    "Property value ratios are more normally distributed than raw property values. Because there's they are normally distributed below the 10th ratio, I will use the z-scores and place them into buckets based on those z-scores."
   ]
  },
  {
   "cell_type": "code",
   "execution_count": 46,
   "id": "purple-stevens",
   "metadata": {},
   "outputs": [],
   "source": [
    "property_value_df = pd.DataFrame(hmda21_df.groupby(by = ['state_fips', 'county_fips', 'property_value',\n",
    "                    'prop_value', 'median_prop_value'], dropna = False).size()).reset_index().\\\n",
    "                     rename(columns = {0: 'count'})"
   ]
  },
  {
   "cell_type": "code",
   "execution_count": 48,
   "id": "0371e4f1",
   "metadata": {},
   "outputs": [],
   "source": [
    "def calculate_prop_zscore(row):\n",
    "    \n",
    "    '''\n",
    "    Calculate property z scores \n",
    "    Mean and standard deviation are based on ratio below 10\n",
    "    '''\n",
    "    \n",
    "    \n",
    "    ### This numbers come from 1_property_value_analysis Jupyter Notebook\n",
    "    standard_deviation = 0.907\n",
    "    mean = 1.475\n",
    "    \n",
    "    prop_value_ratio = row['property_value_ratio']\n",
    "    \n",
    "    z_score = ((prop_value_ratio - mean)/standard_deviation)\n",
    "    \n",
    "    return z_score"
   ]
  },
  {
   "cell_type": "code",
   "execution_count": 49,
   "id": "a588e8c1",
   "metadata": {},
   "outputs": [],
   "source": [
    "  \n",
    "def categorize_property_value_ratio(row):\n",
    "    \n",
    "    '''\n",
    "    Creating categories based on z-scores\n",
    "    '''\n",
    "    \n",
    "    prop_value_ratio = row['property_value_ratio']  \n",
    "    \n",
    "\n",
    "    ### More than one negative standard deviation\n",
    "    if prop_value_ratio >= 0.009 and prop_value_ratio <= 0.567:\n",
    "        return '1'\n",
    "    \n",
    "    ### Between negative one standatd deviation and zero\n",
    "    elif prop_value_ratio >= 0.568 and prop_value_ratio <= 1.474:\n",
    "        return '2'\n",
    "        \n",
    "    ### Between zero and one standard deviation       \n",
    "    elif prop_value_ratio >= 1.475 and prop_value_ratio <= 2.381:\n",
    "        return '3'\n",
    "    \n",
    "    ### Between one standard deviation and two standard deviations\n",
    "    elif prop_value_ratio >= 2.382 and prop_value_ratio <= 3.288:\n",
    "        return '4'\n",
    "    \n",
    "    ### Greater than two standard deviations but less than 10 for the property value ratio\n",
    "    elif prop_value_ratio >= 3.289 and prop_value_ratio < 10:\n",
    "        return '5'\n",
    "    \n",
    "    ### Greater than 10 property value ratio\n",
    "    elif prop_value_ratio >= 10:\n",
    "        return '6'\n",
    "        \n",
    "    else:\n",
    "        return '7'"
   ]
  },
  {
   "cell_type": "code",
   "execution_count": 50,
   "id": "manual-milan",
   "metadata": {},
   "outputs": [
    {
     "data": {
      "text/html": [
       "<div>\n",
       "<style scoped>\n",
       "    .dataframe tbody tr th:only-of-type {\n",
       "        vertical-align: middle;\n",
       "    }\n",
       "\n",
       "    .dataframe tbody tr th {\n",
       "        vertical-align: top;\n",
       "    }\n",
       "\n",
       "    .dataframe thead th {\n",
       "        text-align: right;\n",
       "    }\n",
       "</style>\n",
       "<table border=\"1\" class=\"dataframe\">\n",
       "  <thead>\n",
       "    <tr style=\"text-align: right;\">\n",
       "      <th></th>\n",
       "      <th>state_fips</th>\n",
       "      <th>county_fips</th>\n",
       "      <th>property_value</th>\n",
       "      <th>prop_value</th>\n",
       "      <th>median_prop_value</th>\n",
       "      <th>count</th>\n",
       "      <th>property_value_ratio</th>\n",
       "      <th>prop_zscore</th>\n",
       "      <th>prop_value_cat</th>\n",
       "    </tr>\n",
       "  </thead>\n",
       "  <tbody>\n",
       "    <tr>\n",
       "      <th>121353</th>\n",
       "      <td>23</td>\n",
       "      <td>031</td>\n",
       "      <td>2145000</td>\n",
       "      <td>2145000.0</td>\n",
       "      <td>252300.0</td>\n",
       "      <td>1</td>\n",
       "      <td>8.502</td>\n",
       "      <td>7.748</td>\n",
       "      <td>5</td>\n",
       "    </tr>\n",
       "    <tr>\n",
       "      <th>144850</th>\n",
       "      <td>27</td>\n",
       "      <td>133</td>\n",
       "      <td>265000</td>\n",
       "      <td>265000.0</td>\n",
       "      <td>153000.0</td>\n",
       "      <td>11</td>\n",
       "      <td>1.732</td>\n",
       "      <td>0.283</td>\n",
       "      <td>3</td>\n",
       "    </tr>\n",
       "    <tr>\n",
       "      <th>254872</th>\n",
       "      <td>48</td>\n",
       "      <td>023</td>\n",
       "      <td>125000</td>\n",
       "      <td>125000.0</td>\n",
       "      <td>62000.0</td>\n",
       "      <td>6</td>\n",
       "      <td>2.016</td>\n",
       "      <td>0.596</td>\n",
       "      <td>3</td>\n",
       "    </tr>\n",
       "  </tbody>\n",
       "</table>\n",
       "</div>"
      ],
      "text/plain": [
       "       state_fips county_fips property_value  prop_value  median_prop_value  \\\n",
       "121353         23         031        2145000   2145000.0           252300.0   \n",
       "144850         27         133         265000    265000.0           153000.0   \n",
       "254872         48         023         125000    125000.0            62000.0   \n",
       "\n",
       "        count  property_value_ratio  prop_zscore prop_value_cat  \n",
       "121353      1                 8.502        7.748              5  \n",
       "144850     11                 1.732        0.283              3  \n",
       "254872      6                 2.016        0.596              3  "
      ]
     },
     "execution_count": 50,
     "metadata": {},
     "output_type": "execute_result"
    }
   ],
   "source": [
    "property_value_df['property_value_ratio'] = property_value_df['prop_value'].\\\n",
    "                                            div(property_value_df['median_prop_value']).round(3)\n",
    "\n",
    "property_value_df['prop_zscore'] = property_value_df.apply(calculate_prop_zscore, axis = 1).round(3)\n",
    "\n",
    "property_value_df['prop_value_cat'] = property_value_df.apply(categorize_property_value_ratio, axis = 1)\n",
    "\n",
    "property_value_df.sample(3, random_state = 303)"
   ]
  },
  {
   "cell_type": "code",
   "execution_count": 51,
   "id": "dressed-compression",
   "metadata": {},
   "outputs": [],
   "source": [
    "property_value_df2 = property_value_df[['state_fips', 'county_fips', 'property_value',\n",
    "                                        'median_prop_value', 'property_value_ratio', 'prop_zscore',\n",
    "                                        'prop_value_cat']].copy()"
   ]
  },
  {
   "cell_type": "code",
   "execution_count": 52,
   "id": "broadband-slide",
   "metadata": {},
   "outputs": [],
   "source": [
    "hmda21_df = pd.merge(hmda21_df, property_value_df2, how = 'left', on = ['state_fips', 'county_fips',\n",
    "                     'property_value', 'median_prop_value'])"
   ]
  },
  {
   "cell_type": "markdown",
   "id": "binding-nitrogen",
   "metadata": {},
   "source": [
    "### 10. Applicant Age\n",
    "\n",
    "- [9999](https://s3.amazonaws.com/cfpb-hmda-public/prod/help/2018-public-LAR-code-sheet.pdf): No Co-applicant\n",
    "- 8888: Not Applicable"
   ]
  },
  {
   "cell_type": "code",
   "execution_count": 53,
   "id": "solved-textbook",
   "metadata": {},
   "outputs": [],
   "source": [
    "age_df = pd.DataFrame(hmda21_df['applicant_age'].value_counts(dropna = False)).reset_index().\\\n",
    "         rename(columns = {'index': 'applicant_age', 'applicant_age': 'count'})"
   ]
  },
  {
   "cell_type": "code",
   "execution_count": 54,
   "id": "537d7f85",
   "metadata": {},
   "outputs": [],
   "source": [
    "\n",
    "def categorize_age(row):\n",
    "    \n",
    "    '''\n",
    "    Creating categories for applicant's age\n",
    "    '''\n",
    "    \n",
    "    age = row['applicant_age']\n",
    "    \n",
    "    if age == '<25':\n",
    "        return '1'\n",
    "        \n",
    "    elif age == '25-34':\n",
    "        return '2'\n",
    "        \n",
    "    elif age == '35-44':\n",
    "        return '3'\n",
    "        \n",
    "    elif age == '45-54':\n",
    "        return '4'\n",
    "        \n",
    "    elif age == '55-64':\n",
    "        return '5'\n",
    "        \n",
    "    elif age == '65-74':\n",
    "        return '6'\n",
    "        \n",
    "    elif age == '>74':\n",
    "        return '7'\n",
    "        \n",
    "    elif age == '8888' or age == '9999':\n",
    "        return '8'"
   ]
  },
  {
   "cell_type": "code",
   "execution_count": 55,
   "id": "individual-worthy",
   "metadata": {},
   "outputs": [],
   "source": [
    "age_df['applicant_age_cat'] = age_df.apply(categorize_age, axis = 1)\n",
    "\n",
    "age_df = age_df.drop(columns = ['count'], axis = 1)"
   ]
  },
  {
   "cell_type": "markdown",
   "id": "adult-africa",
   "metadata": {},
   "source": [
    "#### Age Categories\n",
    "- 1: Less than 25\n",
    "- 2: 25 through 34\n",
    "- 3: 35 through 44\n",
    "- 4: 45 through 54\n",
    "- 5: 55 through 64\n",
    "- 6: 65 through 74\n",
    "- 7: Greater than 74\n",
    "- 8: Not Applicable"
   ]
  },
  {
   "cell_type": "code",
   "execution_count": 56,
   "id": "placed-exploration",
   "metadata": {},
   "outputs": [
    {
     "data": {
      "text/plain": [
       "3    5906015\n",
       "4    5266912\n",
       "2    4193434\n",
       "5    4177364\n",
       "8    2481651\n",
       "6    2474719\n",
       "7     888340\n",
       "1     531949\n",
       "Name: applicant_age_cat, dtype: int64"
      ]
     },
     "execution_count": 56,
     "metadata": {},
     "output_type": "execute_result"
    }
   ],
   "source": [
    "hmda21_df = pd.merge(hmda21_df, age_df, how = 'left', on = ['applicant_age'])\n",
    "\n",
    "hmda21_df['applicant_age_cat'].value_counts(dropna = False)"
   ]
  },
  {
   "cell_type": "markdown",
   "id": "better-accordance",
   "metadata": {},
   "source": [
    "### 11. Income and Loan Amount Log"
   ]
  },
  {
   "cell_type": "code",
   "execution_count": 57,
   "id": "electronic-jungle",
   "metadata": {},
   "outputs": [
    {
     "name": "stderr",
     "output_type": "stream",
     "text": [
      "C:\\Users\\sumit.kamarajugadda\\anaconda3\\lib\\site-packages\\pandas\\core\\arraylike.py:397: RuntimeWarning: divide by zero encountered in log\n",
      "  result = getattr(ufunc, method)(*inputs, **kwargs)\n",
      "C:\\Users\\sumit.kamarajugadda\\anaconda3\\lib\\site-packages\\pandas\\core\\arraylike.py:397: RuntimeWarning: invalid value encountered in log\n",
      "  result = getattr(ufunc, method)(*inputs, **kwargs)\n"
     ]
    }
   ],
   "source": [
    "hmda21_df['income'] = pd.to_numeric(hmda21_df['income'])\n",
    "hmda21_df['loan_amount'] = pd.to_numeric(hmda21_df['loan_amount'])\n",
    "\n",
    "hmda21_df['income_log'] = np.log(hmda21_df['income'])\n",
    "hmda21_df['loan_log'] = np.log(hmda21_df['loan_amount'])"
   ]
  },
  {
   "cell_type": "markdown",
   "id": "romance-depression",
   "metadata": {},
   "source": [
    "### 12. Applicant Sex\n",
    "- 1: Male\n",
    "- 2: Female\n",
    "- 3: Information not provided\n",
    "- 4: Not Applicable\n",
    "- 5: No Co-Applicable\n",
    "- 6: Marked Both"
   ]
  },
  {
   "cell_type": "code",
   "execution_count": 58,
   "id": "faced-dryer",
   "metadata": {},
   "outputs": [],
   "source": [
    "sex_df = pd.DataFrame(hmda21_df['applicant_sex'].value_counts(dropna = False)).reset_index().\\\n",
    "         rename(columns = {'index': 'applicant_sex', 'applicant_sex': 'count'})"
   ]
  },
  {
   "cell_type": "code",
   "execution_count": 59,
   "id": "f2daed67",
   "metadata": {},
   "outputs": [],
   "source": [
    "def categorize_sex(row):\n",
    "    \n",
    "    '''\n",
    "    Categorizing applicant's sex\n",
    "    '''\n",
    "    \n",
    "    sex = row['applicant_sex']\n",
    "    \n",
    "    \n",
    "    if sex == '1':\n",
    "        return '1'\n",
    "        \n",
    "    elif sex == '2':\n",
    "        return '2'\n",
    "    \n",
    "    elif sex == '3' or sex == '4':\n",
    "        return '3'\n",
    "        \n",
    "    elif sex == '6':\n",
    "        return '6'"
   ]
  },
  {
   "cell_type": "code",
   "execution_count": 60,
   "id": "accomplished-worst",
   "metadata": {},
   "outputs": [],
   "source": [
    "sex_df = sex_df.drop(columns = ['count'], axis = 1)\n",
    "\n",
    "sex_df['applicant_sex_cat'] = sex_df.apply(categorize_sex, axis = 1)"
   ]
  },
  {
   "cell_type": "markdown",
   "id": "broadband-cattle",
   "metadata": {},
   "source": [
    "#### New applicant sex categories\n",
    "- 1: Male\n",
    "- 2: Female\n",
    "- 3: Not applicable\n",
    "- 4: Makred both sexes"
   ]
  },
  {
   "cell_type": "code",
   "execution_count": 61,
   "id": "logical-ireland",
   "metadata": {},
   "outputs": [
    {
     "data": {
      "text/plain": [
       "1    14080736\n",
       "2     7349079\n",
       "3     4477447\n",
       "6       13122\n",
       "Name: applicant_sex_cat, dtype: int64"
      ]
     },
     "execution_count": 61,
     "metadata": {},
     "output_type": "execute_result"
    }
   ],
   "source": [
    "hmda21_df = pd.merge(hmda21_df, sex_df, how = 'left', on = ['applicant_sex'])\n",
    "\n",
    "hmda21_df['applicant_sex_cat'].value_counts(dropna = False)"
   ]
  },
  {
   "cell_type": "markdown",
   "id": "wrapped-hungary",
   "metadata": {},
   "source": [
    "### 14. Loan Term"
   ]
  },
  {
   "cell_type": "code",
   "execution_count": 63,
   "id": "generic-assistant",
   "metadata": {},
   "outputs": [],
   "source": [
    "loanterm_df = pd.DataFrame(hmda21_df['loan_term'].value_counts(dropna = False)).reset_index().\\\n",
    "              rename(columns = {'index': 'loan_term', 'loan_term': 'count'})\n",
    "\n",
    "loanterm_df.loc[(loanterm_df['loan_term'] != 'Exempt'), 'em_loan_term'] = loanterm_df['loan_term']\n",
    "\n",
    "loanterm_df['em_loan_term'] = pd.to_numeric(loanterm_df['em_loan_term'])"
   ]
  },
  {
   "cell_type": "code",
   "execution_count": 65,
   "id": "8978a2aa",
   "metadata": {},
   "outputs": [],
   "source": [
    "def categorize_loan_term(row):\n",
    "    \n",
    "    '''\n",
    "    Categorize loan term into more or less than 30 years or exactly 30 years\n",
    "    '''\n",
    "    \n",
    "    loan_term = row['em_loan_term']\n",
    "    \n",
    "    ### 30 year mortgage\n",
    "    if loan_term == 360:\n",
    "        return '1'\n",
    "    ### less than 30\n",
    "    elif loan_term < 360:\n",
    "        return '2'\n",
    "    ### More than 30\n",
    "    elif loan_term > 360:\n",
    "        return '3'\n",
    "    ### Exempts and NAs\n",
    "    else:\n",
    "        return '4'\n",
    "        "
   ]
  },
  {
   "cell_type": "code",
   "execution_count": 66,
   "id": "whole-arnold",
   "metadata": {},
   "outputs": [],
   "source": [
    "loanterm_df['mortgage_term'] = loanterm_df.apply(categorize_loan_term, axis = 1)\n",
    "\n",
    "loanterm_df = loanterm_df.drop(columns = ['count', 'em_loan_term'])"
   ]
  },
  {
   "cell_type": "markdown",
   "id": "federal-springfield",
   "metadata": {},
   "source": [
    "#### Mortgage Term\n",
    "- 1: 30 year mortgage\n",
    "- 2: Less than 30 years\n",
    "- 3: More than 30 years\n",
    "- 4: Not applicable"
   ]
  },
  {
   "cell_type": "code",
   "execution_count": 67,
   "id": "ancient-romance",
   "metadata": {},
   "outputs": [
    {
     "data": {
      "text/plain": [
       "1    18345419\n",
       "2     6778222\n",
       "4      606186\n",
       "3      190557\n",
       "Name: mortgage_term, dtype: int64"
      ]
     },
     "execution_count": 67,
     "metadata": {},
     "output_type": "execute_result"
    }
   ],
   "source": [
    "hmda21_df = pd.merge(hmda21_df, loanterm_df, how = 'left', on = ['loan_term'])\n",
    "\n",
    "hmda21_df['mortgage_term'].value_counts(dropna = False)"
   ]
  },
  {
   "cell_type": "markdown",
   "id": "impaired-bubble",
   "metadata": {},
   "source": [
    "### 15. Tract MSA Income Percentage"
   ]
  },
  {
   "cell_type": "code",
   "execution_count": 68,
   "id": "neutral-rotation",
   "metadata": {},
   "outputs": [],
   "source": [
    "tractmsa_income_df = pd.DataFrame(hmda21_df['tract_to_msa_income_percentage'].value_counts(dropna = False)).\\\n",
    "                     reset_index().rename(columns = {'index': 'tract_to_msa_income_percentage', \n",
    "                                                     'tract_to_msa_income_percentage': 'count'})\n",
    "\n",
    "tractmsa_income_df['tract_msa_ratio'] = pd.to_numeric(tractmsa_income_df['tract_to_msa_income_percentage'])"
   ]
  },
  {
   "cell_type": "code",
   "execution_count": 70,
   "id": "8d7ec356",
   "metadata": {},
   "outputs": [],
   "source": [
    "def categorize_lmi(row):\n",
    "    \n",
    "    '''\n",
    "    Categorize low-to-moderate income neighborhoods\n",
    "    '''\n",
    "    \n",
    "    tract_msa_ratio = row['tract_msa_ratio']\n",
    "    \n",
    "    ### Low \n",
    "    if tract_msa_ratio > 0 and tract_msa_ratio < 50:\n",
    "        return '1'\n",
    "    ### Moderate\n",
    "    elif tract_msa_ratio >= 50 and tract_msa_ratio < 80:\n",
    "        return '2'\n",
    "    ### Middle\n",
    "    elif tract_msa_ratio >= 80 and tract_msa_ratio < 120:\n",
    "        return '3'\n",
    "    ### Upper\n",
    "    elif tract_msa_ratio >= 120:\n",
    "        return '4'\n",
    "    ### None\n",
    "    elif tract_msa_ratio == 0:\n",
    "        return '5'"
   ]
  },
  {
   "cell_type": "code",
   "execution_count": 71,
   "id": "accessible-organization",
   "metadata": {},
   "outputs": [],
   "source": [
    "tractmsa_income_df['lmi_def'] = tractmsa_income_df.apply(categorize_lmi, axis = 1)\n",
    "\n",
    "tractmsa_income_df = tractmsa_income_df.drop(columns = ['count', 'tract_msa_ratio'], axis = 1)"
   ]
  },
  {
   "cell_type": "markdown",
   "id": "complete-sixth",
   "metadata": {},
   "source": [
    "#### LMI Definition\n",
    "- 1: Low\n",
    "- 2: Moderate\n",
    "- 3: Middle\n",
    "- 4: Upper\n",
    "- 5: None"
   ]
  },
  {
   "cell_type": "code",
   "execution_count": 72,
   "id": "horizontal-compiler",
   "metadata": {},
   "outputs": [
    {
     "data": {
      "text/plain": [
       "3    11139226\n",
       "4    10123389\n",
       "2     3686496\n",
       "1      611299\n",
       "5      359974\n",
       "Name: lmi_def, dtype: int64"
      ]
     },
     "execution_count": 72,
     "metadata": {},
     "output_type": "execute_result"
    }
   ],
   "source": [
    "hmda21_df = pd.merge(hmda21_df, tractmsa_income_df, how = 'left', on = ['tract_to_msa_income_percentage'])\n",
    "\n",
    "hmda21_df['lmi_def'].value_counts(dropna = False)"
   ]
  },
  {
   "cell_type": "markdown",
   "id": "remarkable-desert",
   "metadata": {},
   "source": [
    "### 16. Filter: \n",
    "\n",
    "#### For Conventional and FHA loans that first-lien, one-to-four unit, site built unites for home purchase where the applicant is going to live in that property"
   ]
  },
  {
   "cell_type": "code",
   "execution_count": 73,
   "id": "public-surge",
   "metadata": {},
   "outputs": [
    {
     "name": "stdout",
     "output_type": "stream",
     "text": [
      "hmda21_df: 25920384\n",
      "hmda21_df2: 5329539\n"
     ]
    }
   ],
   "source": [
    "one_to_four = ['1', '2', '3', '4']\n",
    "\n",
    "hmda21_df2 = hmda21_df[((hmda21_df['loan_type'] == '1') | (hmda21_df['loan_type'] == '2'))\\\n",
    "                      & (hmda21_df['occupancy_type'] == '1') &\\\n",
    "                        (hmda21_df['total_units'].isin(one_to_four)) &\\\n",
    "                        (hmda21_df['loan_purpose'] == '1') &\\\n",
    "                        (hmda21_df['action_taken'] != '6') &\\\n",
    "                        (hmda21_df['construction_method'] == '1') &\\\n",
    "                        (hmda21_df['lien_status'] == '1') &\\\n",
    "                        (hmda21_df['business_or_commercial_purpose'] != '1')].copy()\n",
    "\n",
    "print('hmda21_df: ' + str(len(hmda21_df)))\n",
    "print('hmda21_df2: ' + str(len(hmda21_df2)))"
   ]
  },
  {
   "cell_type": "markdown",
   "id": "controlling-behalf",
   "metadata": {},
   "source": [
    "### 17. Write new dataframe to CSV"
   ]
  },
  {
   "cell_type": "code",
   "execution_count": 77,
   "id": "latest-mention",
   "metadata": {},
   "outputs": [
    {
     "name": "stdout",
     "output_type": "stream",
     "text": [
      "<class 'pandas.core.frame.DataFrame'>\n",
      "Int64Index: 5329539 entries, 2 to 25920383\n",
      "Columns: 117 entries, activity_year to lmi_def\n",
      "dtypes: float64(8), int64(1), object(108)\n",
      "memory usage: 4.7+ GB\n"
     ]
    }
   ],
   "source": [
    "hmda21_df2.info()"
   ]
  },
  {
   "cell_type": "code",
   "execution_count": 79,
   "id": "dbfa74d6",
   "metadata": {},
   "outputs": [],
   "source": [
    "#free up space\n",
    "del(hmda21_df)"
   ]
  },
  {
   "cell_type": "code",
   "execution_count": 80,
   "id": "orange-cover",
   "metadata": {},
   "outputs": [],
   "source": [
    "hmda21_df2.to_csv('C:\\Temp\\hmda21_categorized.csv', index = False)"
   ]
  },
  {
   "cell_type": "code",
   "execution_count": 82,
   "id": "steady-relation",
   "metadata": {},
   "outputs": [],
   "source": [
    "del(hmda21_df2)"
   ]
  },
  {
   "cell_type": "code",
   "execution_count": null,
   "id": "5e283158",
   "metadata": {},
   "outputs": [],
   "source": []
  }
 ],
 "metadata": {
  "kernelspec": {
   "display_name": "Python 3 (ipykernel)",
   "language": "python",
   "name": "python3"
  },
  "language_info": {
   "codemirror_mode": {
    "name": "ipython",
    "version": 3
   },
   "file_extension": ".py",
   "mimetype": "text/x-python",
   "name": "python",
   "nbconvert_exporter": "python",
   "pygments_lexer": "ipython3",
   "version": "3.9.12"
  }
 },
 "nbformat": 4,
 "nbformat_minor": 5
}
