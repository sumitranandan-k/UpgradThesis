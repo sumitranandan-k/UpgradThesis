{
 "cells": [
  {
   "cell_type": "code",
   "execution_count": 1,
   "id": "searching-money",
   "metadata": {},
   "outputs": [],
   "source": [
    "%load_ext autoreload\n",
    "%autoreload 2"
   ]
  },
  {
   "cell_type": "code",
   "execution_count": 2,
   "id": "incident-fighter",
   "metadata": {},
   "outputs": [],
   "source": [
    "import pandas as pd\n",
    "import numpy as np\n",
    "\n",
    "import statsmodels.formula.api as smf\n",
    "\n",
    "from sklearn.metrics import confusion_matrix, accuracy_score\n",
    "from functools import reduce\n",
    "from tqdm import tqdm"
   ]
  },
  {
   "cell_type": "markdown",
   "id": "accepting-interim",
   "metadata": {},
   "source": [
    "### 1. Import Data"
   ]
  },
  {
   "cell_type": "code",
   "execution_count": 3,
   "id": "known-cedar",
   "metadata": {},
   "outputs": [
    {
     "name": "stdout",
     "output_type": "stream",
     "text": [
      "<class 'pandas.core.frame.DataFrame'>\n",
      "RangeIndex: 5329539 entries, 0 to 5329538\n",
      "Columns: 117 entries, activity_year to lmi_def\n",
      "dtypes: object(117)\n",
      "memory usage: 4.6+ GB\n"
     ]
    }
   ],
   "source": [
    "hmda21_df = pd.read_csv('C:\\Temp\\hmda21_categorized.csv', dtype = str)\n",
    "\n",
    "hmda21_df.info()"
   ]
  },
  {
   "cell_type": "markdown",
   "id": "occasional-russian",
   "metadata": {},
   "source": [
    "### 2. Filter for Conventional Originations and Denials and where income is above 0"
   ]
  },
  {
   "cell_type": "code",
   "execution_count": 4,
   "id": "aggressive-sword",
   "metadata": {},
   "outputs": [
    {
     "name": "stdout",
     "output_type": "stream",
     "text": [
      "3287909\n"
     ]
    }
   ],
   "source": [
    "hmda21_df['income'] = pd.to_numeric(hmda21_df['income'])\n",
    "\n",
    "hmda21_df2 = hmda21_df[(hmda21_df['loan_type'] == '1') & (hmda21_df['income'] > 0) &\\\n",
    "                       ((hmda21_df['loan_outcome'] == '1') | (hmda21_df['loan_outcome'] == '3'))].copy()\n",
    "\n",
    "print(len(hmda21_df2))"
   ]
  },
  {
   "cell_type": "markdown",
   "id": "devoted-contributor",
   "metadata": {},
   "source": [
    "### 3. Create Dummy Variables for Regression\n",
    "\n",
    "#### Select columns for dummy variables"
   ]
  },
  {
   "cell_type": "code",
   "execution_count": 5,
   "id": "material-surgeon",
   "metadata": {},
   "outputs": [],
   "source": [
    "regression_cols = [{'loan_outcome': {'denied': ['3']}},\n",
    "                   \n",
    "                   ### Reference: White\n",
    "                   {'app_race_ethnicity': {'black': ['3'], 'latino': ['6'], 'asian': ['2'], 'native': ['1'],\n",
    "                                           'pac_islander': ['4'], 'race_na': ['7'], 'asian_cb': ['2', '4']}},\n",
    "                   \n",
    "                   ### Reference: Coapplicant\n",
    "                   {'co_applicant': {'no_coapplicant': ['2'], 'na_coapplicant': ['3']}},\n",
    "                   \n",
    "                   ### Reference: Male\n",
    "                   {'applicant_sex_cat': {'female': ['2'], 'sex_na': ['3', '6']}},\n",
    "                   \n",
    "                   ### Reference: Between 34-44 or Between 34-54\n",
    "                   {'applicant_age_cat': {'less_than25': ['1'], 'between25_34': ['2'], \n",
    "                                          'between45_54': ['4'], 'between55_64': ['5'], 'between65_74': ['6'],\n",
    "                                          'greater74': ['7'], 'age_na': ['8'],\n",
    "                                          'younger_than_34': ['1', '2'], 'older_than_55': ['5', '6', '7'],\n",
    "                                          'older_than65': ['6', '7']}},\n",
    "                   \n",
    "                   ### Reference: Bucket 2 & 3\n",
    "                   {'prop_value_cat': {'pvr_bucket1': ['1'], 'pvr_bucket4': ['4'], 'pvr_bucket5': ['5'], \n",
    "                                        'pvr_bucket6': ['6'], 'pvr_bucket_none': ['7']}},\n",
    "                   \n",
    "                   \n",
    "                   ### Reference: 30yr Mortgage\n",
    "                   {'mortgage_term': {'less30yrs_mortgage': ['2'], 'more30yrs_mortgage': ['3'], \n",
    "                                      'mortgage_term_na': ['4'], 'not30yr_mortgage': ['2', '3']}},\n",
    "                   \n",
    "                   ### Reference: TransUnion\n",
    "                   {'app_credit_model': {'equifax': ['1'], 'experian': ['2'], 'other_model': ['4', '6'], \n",
    "                                         'more_than_one': ['5'], 'model_na': ['7']}},\n",
    "                   \n",
    "                   {'dti_cat': {'dti_manageable': ['2'], 'dti_unmanageable': ['3'], \n",
    "                                'dti_struggling': ['4'], 'dti_na': ['5', '6']}},\n",
    "                   \n",
    "                   ### Reference: 20 pct downpayment\n",
    "                   {'downpayment_flag': {'less20pct_downpayment': ['2'],'downpayment_na': ['3', '5']}},\n",
    "                   \n",
    "                   ### Reference: Upper LMI\n",
    "                   {'lmi_def': {'low_lmi': ['1'], 'moderate_lmi': ['2'], 'middle_lmi': ['3'], 'na_lmi': ['5']}},\n",
    "                   \n",
    "                   ### Reference: White Cat 1\n",
    "                   {'diverse_def': {'white_cat2': ['2'], 'white_cat3': ['3'], 'white_cat4': ['4'], \n",
    "                                      'white_cat_na': ['0', '5']}},\n",
    "                   \n",
    "                   ### Reference: Banks\n",
    "                   {'lender_def': {'credit_union': ['2'], 'independent': ['3'],  'lender_na': ['4', '6']}},\n",
    "\n",
    "                   ### Reference: 99th Percentile\n",
    "                   {'metro_percentile': {'metro_90th': ['9'], 'metro_80th': ['8'],\n",
    "                                         'metro_70th': ['7'], 'metro_60th': ['6'], 'metro_50th': ['5'],\n",
    "                                         'metro_40th': ['4'], 'metro_30th': ['3'], 'metro_20th': ['2'],\n",
    "                                         'metro_10th': ['1'], 'metro_less10th': ['0'], 'micro_area': ['111'],\n",
    "                                         'metro_none': ['000']}}]"
   ]
  },
  {
   "cell_type": "code",
   "execution_count": 6,
   "id": "southwest-kingdom",
   "metadata": {},
   "outputs": [],
   "source": [
    "continous_vars = ['income_log', 'loan_log', 'lar_count', 'property_value_ratio', 'prop_zscore']\n",
    "\n",
    "for continuous_var in continous_vars:\n",
    "    hmda21_df2[continuous_var] = pd.to_numeric(hmda21_df2[continuous_var])"
   ]
  },
  {
   "cell_type": "code",
   "execution_count": 7,
   "id": "28ed3dd2",
   "metadata": {},
   "outputs": [],
   "source": [
    "def create_dummy_vars(df, columns):\n",
    "    '''\n",
    "    Create dummy variables based on values being isolated in the list of dict being passed\n",
    "    '''\n",
    "    \n",
    "    \n",
    "    for column in columns:\n",
    "        dummy_vars = columns[column]\n",
    "        \n",
    "        for dummy_var in dummy_vars:\n",
    "            \n",
    "            var_value = dummy_vars[dummy_var]\n",
    "\n",
    "            df.loc[(df[column].isin(var_value)), dummy_var] = 0\n",
    "            df.loc[~(df[column].isin(var_value)), dummy_var] = 1\n",
    "    \n",
    "    return df"
   ]
  },
  {
   "cell_type": "code",
   "execution_count": 8,
   "id": "embedded-colonial",
   "metadata": {},
   "outputs": [],
   "source": [
    "for columns in regression_cols:\n",
    "    ### Function to create dummy variables\n",
    "    hmda21_df2 = create_dummy_vars(hmda21_df2, columns)"
   ]
  },
  {
   "cell_type": "markdown",
   "id": "agricultural-disco",
   "metadata": {},
   "source": [
    "#### Independent Variables"
   ]
  },
  {
   "cell_type": "code",
   "execution_count": 9,
   "id": "micro-power",
   "metadata": {},
   "outputs": [
    {
     "name": "stdout",
     "output_type": "stream",
     "text": [
      "60\n"
     ]
    }
   ],
   "source": [
    "variables = ['black', 'latino', 'asian_cb', 'native', 'race_na',\n",
    "             'no_coapplicant', 'na_coapplicant',\n",
    "             'female', 'sex_na',\n",
    "             'less_than25', 'between25_34', 'between45_54', 'between55_64', 'older_than65', 'age_na',\n",
    "             'income_log', 'loan_log',\n",
    "             'pvr_bucket1', 'pvr_bucket4', 'pvr_bucket5', 'pvr_bucket6', 'pvr_bucket_none',\n",
    "             'less30yrs_mortgage', 'more30yrs_mortgage', 'mortgage_term_na',\n",
    "             'equifax', 'experian', 'other_model', 'more_than_one', 'model_na',\n",
    "             'dti_manageable', 'dti_unmanageable', 'dti_struggling', 'dti_na',\n",
    "             'less20pct_downpayment','downpayment_na',\n",
    "             'moderate_lmi', 'middle_lmi', 'low_lmi', 'na_lmi',\n",
    "             'credit_union', 'independent',  'lender_na',\n",
    "             'lar_count',             \n",
    "             'white_cat2', 'white_cat3', 'white_cat4', 'white_cat_na',\n",
    "             'metro_90th', 'metro_80th', 'metro_70th', 'metro_60th', 'metro_50th', 'metro_40th', \n",
    "             'metro_30th', 'metro_20th', 'metro_10th', 'metro_less10th', 'micro_area', 'metro_none']\n",
    "\n",
    "print(len(variables))"
   ]
  },
  {
   "cell_type": "markdown",
   "id": "conscious-titanium",
   "metadata": {},
   "source": [
    "### 2. Run Collinearity Test"
   ]
  },
  {
   "cell_type": "code",
   "execution_count": 10,
   "id": "00301a9a",
   "metadata": {},
   "outputs": [],
   "source": [
    "def calculate_vif(independet_df):\n",
    "    '''\n",
    "    Calculate VIF\n",
    "    '''\n",
    "    \n",
    "    vif_list = []\n",
    "    \n",
    "    x_cols = independet_df.columns\n",
    "    \n",
    "    for x_col in tqdm(x_cols):\n",
    "        \n",
    "        x = independet_df[[x_col]]\n",
    "        y = independet_df.drop(columns = x_col)\n",
    "        \n",
    "        rsq = smf.ols(formula = 'x~y', data = independet_df).fit().rsquared\n",
    "        vif = round(1/(1-rsq), 2)\n",
    "        \n",
    "        if vif > 2.5:\n",
    "            ### 1 for concern\n",
    "            threshold_flag = '1'\n",
    "            \n",
    "        elif vif <= 2.5:\n",
    "            ### 0 for no concern\n",
    "            threshold_flag = '0'\n",
    "        \n",
    "        \n",
    "        var_dict = {'independent_var': x_col, 'vif': vif, 'threshold': threshold_flag}\n",
    "        vif_list.append(var_dict)\n",
    "        \n",
    "    vif_df = pd.DataFrame(vif_list)\n",
    "    return vif_df"
   ]
  },
  {
   "cell_type": "code",
   "execution_count": 11,
   "id": "normal-battle",
   "metadata": {},
   "outputs": [
    {
     "name": "stderr",
     "output_type": "stream",
     "text": [
      "100%|██████████| 60/60 [18:10<00:00, 18.17s/it]\n"
     ]
    }
   ],
   "source": [
    "hmda_independent_vars = hmda21_df2[variables]\n",
    "\n",
    "vif_df = calculate_vif(hmda_independent_vars)"
   ]
  },
  {
   "cell_type": "markdown",
   "id": "difficult-making",
   "metadata": {},
   "source": [
    "#### Varibales that are above the 2.5 threshold"
   ]
  },
  {
   "cell_type": "code",
   "execution_count": 12,
   "id": "active-standard",
   "metadata": {},
   "outputs": [
    {
     "data": {
      "text/html": [
       "<div>\n",
       "<style scoped>\n",
       "    .dataframe tbody tr th:only-of-type {\n",
       "        vertical-align: middle;\n",
       "    }\n",
       "\n",
       "    .dataframe tbody tr th {\n",
       "        vertical-align: top;\n",
       "    }\n",
       "\n",
       "    .dataframe thead th {\n",
       "        text-align: right;\n",
       "    }\n",
       "</style>\n",
       "<table border=\"1\" class=\"dataframe\">\n",
       "  <thead>\n",
       "    <tr style=\"text-align: right;\">\n",
       "      <th></th>\n",
       "      <th>independent_var</th>\n",
       "      <th>vif</th>\n",
       "      <th>threshold</th>\n",
       "    </tr>\n",
       "  </thead>\n",
       "  <tbody>\n",
       "    <tr>\n",
       "      <th>21</th>\n",
       "      <td>pvr_bucket_none</td>\n",
       "      <td>7.40</td>\n",
       "      <td>1</td>\n",
       "    </tr>\n",
       "    <tr>\n",
       "      <th>33</th>\n",
       "      <td>dti_na</td>\n",
       "      <td>6.58</td>\n",
       "      <td>1</td>\n",
       "    </tr>\n",
       "    <tr>\n",
       "      <th>47</th>\n",
       "      <td>white_cat_na</td>\n",
       "      <td>6.38</td>\n",
       "      <td>1</td>\n",
       "    </tr>\n",
       "    <tr>\n",
       "      <th>39</th>\n",
       "      <td>na_lmi</td>\n",
       "      <td>5.31</td>\n",
       "      <td>1</td>\n",
       "    </tr>\n",
       "    <tr>\n",
       "      <th>35</th>\n",
       "      <td>downpayment_na</td>\n",
       "      <td>4.96</td>\n",
       "      <td>1</td>\n",
       "    </tr>\n",
       "    <tr>\n",
       "      <th>24</th>\n",
       "      <td>mortgage_term_na</td>\n",
       "      <td>3.80</td>\n",
       "      <td>1</td>\n",
       "    </tr>\n",
       "    <tr>\n",
       "      <th>16</th>\n",
       "      <td>loan_log</td>\n",
       "      <td>3.06</td>\n",
       "      <td>1</td>\n",
       "    </tr>\n",
       "    <tr>\n",
       "      <th>15</th>\n",
       "      <td>income_log</td>\n",
       "      <td>2.93</td>\n",
       "      <td>1</td>\n",
       "    </tr>\n",
       "    <tr>\n",
       "      <th>48</th>\n",
       "      <td>metro_90th</td>\n",
       "      <td>2.80</td>\n",
       "      <td>1</td>\n",
       "    </tr>\n",
       "  </tbody>\n",
       "</table>\n",
       "</div>"
      ],
      "text/plain": [
       "     independent_var   vif threshold\n",
       "21   pvr_bucket_none  7.40         1\n",
       "33            dti_na  6.58         1\n",
       "47      white_cat_na  6.38         1\n",
       "39            na_lmi  5.31         1\n",
       "35    downpayment_na  4.96         1\n",
       "24  mortgage_term_na  3.80         1\n",
       "16          loan_log  3.06         1\n",
       "15        income_log  2.93         1\n",
       "48        metro_90th  2.80         1"
      ]
     },
     "execution_count": 12,
     "metadata": {},
     "output_type": "execute_result"
    }
   ],
   "source": [
    "vif_df[(vif_df['threshold'] == '1')].sort_values(by = ['vif'], ascending = False)"
   ]
  },
  {
   "cell_type": "markdown",
   "id": "hungry-review",
   "metadata": {},
   "source": [
    "#### Remove variables with high VIFs\n",
    "- Keeping income, loan and metro_90th"
   ]
  },
  {
   "cell_type": "code",
   "execution_count": 13,
   "id": "destroyed-breed",
   "metadata": {},
   "outputs": [],
   "source": [
    "to_keep = ['income_log', 'loan_log', 'metro_90th']\n",
    "\n",
    "highvif_vars = vif_df[(vif_df['threshold'] == '1') & ~(vif_df['independent_var'].isin(to_keep))]\\\n",
    "              ['independent_var'].unique().tolist()\n",
    "\n",
    "variables2 = [var for var in variables if var not in highvif_vars]"
   ]
  },
  {
   "cell_type": "markdown",
   "id": "flush-width",
   "metadata": {},
   "source": [
    "### 3. Filter Out High Vif Variables\n",
    "- Property Value Ratios NA\n",
    "- Mortgage Term NA\n",
    "- DTI NA\n",
    "- Downpayment NA\n",
    "- NA Lmi\n",
    "- White Cat NA"
   ]
  },
  {
   "cell_type": "code",
   "execution_count": 14,
   "id": "exotic-indonesia",
   "metadata": {},
   "outputs": [
    {
     "name": "stdout",
     "output_type": "stream",
     "text": [
      "3163085\n"
     ]
    }
   ],
   "source": [
    "hmda21_df3 = hmda21_df2[(hmda21_df2['prop_value_cat'] != '7') & (hmda21_df2['mortgage_term'] != '4') &\\\n",
    "                        (hmda21_df2['dti_cat'] != '5') & (hmda21_df2['dti_cat'] != '6') &\\\n",
    "                        (hmda21_df2['downpayment_flag'] != '3') & (hmda21_df2['lmi_def'] != '5') &\\\n",
    "                        (hmda21_df2['diverse_def'] != '0') & (hmda21_df2['diverse_def'] != '5')].copy()\n",
    "\n",
    "print(len(hmda21_df3))"
   ]
  },
  {
   "cell_type": "markdown",
   "id": "vanilla-blend",
   "metadata": {},
   "source": [
    "#### Also filtering out CLTV above 100"
   ]
  },
  {
   "cell_type": "code",
   "execution_count": 15,
   "id": "committed-doctrine",
   "metadata": {},
   "outputs": [
    {
     "name": "stdout",
     "output_type": "stream",
     "text": [
      "3112469\n"
     ]
    }
   ],
   "source": [
    "hmda21_df3['combined_loan_to_value_ratio'] = pd.to_numeric(hmda21_df3['combined_loan_to_value_ratio'])\n",
    "\n",
    "hmda21_df4 = hmda21_df3[(hmda21_df3['combined_loan_to_value_ratio'] <= 100)]\n",
    "\n",
    "print(len(hmda21_df4))"
   ]
  },
  {
   "cell_type": "markdown",
   "id": "fleet-barbados",
   "metadata": {},
   "source": [
    "#### Replace variables"
   ]
  },
  {
   "cell_type": "code",
   "execution_count": 16,
   "id": "naughty-funeral",
   "metadata": {},
   "outputs": [],
   "source": [
    "# high_vif_vars = ['pvr_bucket_none', 'mortgage_term_na', 'dti_na', 'downpayment_na', 'na_lmi', 'white_cat_na']\n",
    "\n",
    "vars_to_removes = ['pvr_bucket1', 'pvr_bucket4', 'pvr_bucket5', 'pvr_bucket6', 'less20pct_downpayment']\n",
    "\n",
    "variables3 = [var for var in variables2 if var not in vars_to_removes]\n",
    "variables3.insert(17, 'property_value_ratio')\n",
    "variables3.insert(28, 'combined_loan_to_value_ratio')"
   ]
  },
  {
   "cell_type": "markdown",
   "id": "structured-affairs",
   "metadata": {},
   "source": [
    "#### Variables to use"
   ]
  },
  {
   "cell_type": "code",
   "execution_count": 17,
   "id": "martial-wesley",
   "metadata": {},
   "outputs": [
    {
     "data": {
      "text/plain": [
       "0                            black\n",
       "1                           latino\n",
       "2                         asian_cb\n",
       "3                           native\n",
       "4                          race_na\n",
       "5                   no_coapplicant\n",
       "6                   na_coapplicant\n",
       "7                           female\n",
       "8                           sex_na\n",
       "9                      less_than25\n",
       "10                    between25_34\n",
       "11                    between45_54\n",
       "12                    between55_64\n",
       "13                    older_than65\n",
       "14                          age_na\n",
       "15                      income_log\n",
       "16                        loan_log\n",
       "17            property_value_ratio\n",
       "18              less30yrs_mortgage\n",
       "19              more30yrs_mortgage\n",
       "20                         equifax\n",
       "21                        experian\n",
       "22                     other_model\n",
       "23                   more_than_one\n",
       "24                        model_na\n",
       "25                  dti_manageable\n",
       "26                dti_unmanageable\n",
       "27                  dti_struggling\n",
       "28    combined_loan_to_value_ratio\n",
       "29                    moderate_lmi\n",
       "30                      middle_lmi\n",
       "31                         low_lmi\n",
       "32                    credit_union\n",
       "33                     independent\n",
       "34                       lender_na\n",
       "35                       lar_count\n",
       "36                      white_cat2\n",
       "37                      white_cat3\n",
       "38                      white_cat4\n",
       "39                      metro_90th\n",
       "40                      metro_80th\n",
       "41                      metro_70th\n",
       "42                      metro_60th\n",
       "43                      metro_50th\n",
       "44                      metro_40th\n",
       "45                      metro_30th\n",
       "46                      metro_20th\n",
       "47                      metro_10th\n",
       "48                  metro_less10th\n",
       "49                      micro_area\n",
       "50                      metro_none\n",
       "dtype: object"
      ]
     },
     "execution_count": 17,
     "metadata": {},
     "output_type": "execute_result"
    }
   ],
   "source": [
    "pd.Series(variables3)"
   ]
  },
  {
   "cell_type": "markdown",
   "id": "cubic-invasion",
   "metadata": {},
   "source": [
    "### 4. Run Regression\n",
    "#### Regression Formula"
   ]
  },
  {
   "cell_type": "code",
   "execution_count": 18,
   "id": "5064d2f5",
   "metadata": {},
   "outputs": [],
   "source": [
    "    \n",
    "def create_formula(independent_vars):\n",
    "    '''\n",
    "    Create formula from a list of variables\n",
    "    '''\n",
    "    \n",
    "    \n",
    "    dummy_vars = str(str(independent_vars)[2:-2].replace('\\', \\'', ' + '))\n",
    "    regression_formula = (\"denied ~ \" + dummy_vars)\n",
    "    \n",
    "    return regression_formula\n",
    "    "
   ]
  },
  {
   "cell_type": "code",
   "execution_count": 19,
   "id": "comfortable-communication",
   "metadata": {},
   "outputs": [
    {
     "data": {
      "text/plain": [
       "'denied ~ black + latino + asian_cb + native + race_na + no_coapplicant + na_coapplicant + female + sex_na + less_than25 + between25_34 + between45_54 + between55_64 + older_than65 + age_na + income_log + loan_log + property_value_ratio + less30yrs_mortgage + more30yrs_mortgage + equifax + experian + other_model + more_than_one + model_na + dti_manageable + dti_unmanageable + dti_struggling + combined_loan_to_value_ratio + moderate_lmi + middle_lmi + low_lmi + credit_union + independent + lender_na + lar_count + white_cat2 + white_cat3 + white_cat4 + metro_90th + metro_80th + metro_70th + metro_60th + metro_50th + metro_40th + metro_30th + metro_20th + metro_10th + metro_less10th + micro_area + metro_none'"
      ]
     },
     "execution_count": 19,
     "metadata": {},
     "output_type": "execute_result"
    }
   ],
   "source": [
    "regression_formula = create_formula(variables3)\n",
    "regression_formula"
   ]
  },
  {
   "cell_type": "code",
   "execution_count": 20,
   "id": "novel-study",
   "metadata": {},
   "outputs": [
    {
     "name": "stdout",
     "output_type": "stream",
     "text": [
      "Number of records: 3112469\n"
     ]
    }
   ],
   "source": [
    "print('Number of records: ' + str(len(hmda21_df4)))"
   ]
  },
  {
   "cell_type": "code",
   "execution_count": 21,
   "id": "760f0c74",
   "metadata": {},
   "outputs": [],
   "source": [
    "def run_regression(data, formula):\n",
    "    '''\n",
    "    use statsmodel to run regression\n",
    "    '''\n",
    "    \n",
    "    model = smf.logit(data = data, formula = formula)\n",
    "    \n",
    "    return model"
   ]
  },
  {
   "cell_type": "code",
   "execution_count": 22,
   "id": "aging-vegetation",
   "metadata": {},
   "outputs": [
    {
     "name": "stdout",
     "output_type": "stream",
     "text": [
      "Optimization terminated successfully.\n",
      "         Current function value: 0.180396\n",
      "         Iterations 8\n"
     ]
    },
    {
     "data": {
      "text/html": [
       "<table class=\"simpletable\">\n",
       "<caption>Logit Regression Results</caption>\n",
       "<tr>\n",
       "  <th>Dep. Variable:</th>        <td>denied</td>      <th>  No. Observations:  </th>   <td>3112469</td>  \n",
       "</tr>\n",
       "<tr>\n",
       "  <th>Model:</th>                 <td>Logit</td>      <th>  Df Residuals:      </th>   <td>3112417</td>  \n",
       "</tr>\n",
       "<tr>\n",
       "  <th>Method:</th>                 <td>MLE</td>       <th>  Df Model:          </th>   <td>    51</td>   \n",
       "</tr>\n",
       "<tr>\n",
       "  <th>Date:</th>            <td>Sat, 27 Aug 2022</td> <th>  Pseudo R-squ.:     </th>   <td>0.2190</td>   \n",
       "</tr>\n",
       "<tr>\n",
       "  <th>Time:</th>                <td>21:19:36</td>     <th>  Log-Likelihood:    </th> <td>-5.6148e+05</td>\n",
       "</tr>\n",
       "<tr>\n",
       "  <th>converged:</th>             <td>True</td>       <th>  LL-Null:           </th> <td>-7.1894e+05</td>\n",
       "</tr>\n",
       "<tr>\n",
       "  <th>Covariance Type:</th>     <td>nonrobust</td>    <th>  LLR p-value:       </th>   <td> 0.000</td>   \n",
       "</tr>\n",
       "</table>\n",
       "<table class=\"simpletable\">\n",
       "<tr>\n",
       "                <td></td>                  <th>coef</th>     <th>std err</th>      <th>z</th>      <th>P>|z|</th>  <th>[0.025</th>    <th>0.975]</th>  \n",
       "</tr>\n",
       "<tr>\n",
       "  <th>Intercept</th>                    <td>  -10.1011</td> <td>    0.301</td> <td>  -33.523</td> <td> 0.000</td> <td>  -10.692</td> <td>   -9.511</td>\n",
       "</tr>\n",
       "<tr>\n",
       "  <th>black</th>                        <td>    0.6718</td> <td>    0.011</td> <td>   63.527</td> <td> 0.000</td> <td>    0.651</td> <td>    0.693</td>\n",
       "</tr>\n",
       "<tr>\n",
       "  <th>latino</th>                       <td>    0.4198</td> <td>    0.009</td> <td>   47.740</td> <td> 0.000</td> <td>    0.403</td> <td>    0.437</td>\n",
       "</tr>\n",
       "<tr>\n",
       "  <th>asian_cb</th>                     <td>    0.4084</td> <td>    0.010</td> <td>   42.260</td> <td> 0.000</td> <td>    0.390</td> <td>    0.427</td>\n",
       "</tr>\n",
       "<tr>\n",
       "  <th>native</th>                       <td>    0.5180</td> <td>    0.035</td> <td>   14.952</td> <td> 0.000</td> <td>    0.450</td> <td>    0.586</td>\n",
       "</tr>\n",
       "<tr>\n",
       "  <th>race_na</th>                      <td>    0.4202</td> <td>    0.010</td> <td>   40.914</td> <td> 0.000</td> <td>    0.400</td> <td>    0.440</td>\n",
       "</tr>\n",
       "<tr>\n",
       "  <th>no_coapplicant</th>               <td>    0.2623</td> <td>    0.006</td> <td>   42.125</td> <td> 0.000</td> <td>    0.250</td> <td>    0.275</td>\n",
       "</tr>\n",
       "<tr>\n",
       "  <th>na_coapplicant</th>               <td>    0.3959</td> <td>    0.111</td> <td>    3.579</td> <td> 0.000</td> <td>    0.179</td> <td>    0.613</td>\n",
       "</tr>\n",
       "<tr>\n",
       "  <th>female</th>                       <td>   -0.0792</td> <td>    0.006</td> <td>  -13.341</td> <td> 0.000</td> <td>   -0.091</td> <td>   -0.068</td>\n",
       "</tr>\n",
       "<tr>\n",
       "  <th>sex_na</th>                       <td>    0.2028</td> <td>    0.013</td> <td>   15.414</td> <td> 0.000</td> <td>    0.177</td> <td>    0.229</td>\n",
       "</tr>\n",
       "<tr>\n",
       "  <th>less_than25</th>                  <td>   -0.0287</td> <td>    0.013</td> <td>   -2.177</td> <td> 0.030</td> <td>   -0.055</td> <td>   -0.003</td>\n",
       "</tr>\n",
       "<tr>\n",
       "  <th>between25_34</th>                 <td>   -0.2080</td> <td>    0.007</td> <td>  -28.310</td> <td> 0.000</td> <td>   -0.222</td> <td>   -0.194</td>\n",
       "</tr>\n",
       "<tr>\n",
       "  <th>between45_54</th>                 <td>    0.1407</td> <td>    0.008</td> <td>   17.497</td> <td> 0.000</td> <td>    0.125</td> <td>    0.157</td>\n",
       "</tr>\n",
       "<tr>\n",
       "  <th>between55_64</th>                 <td>    0.1076</td> <td>    0.009</td> <td>   11.551</td> <td> 0.000</td> <td>    0.089</td> <td>    0.126</td>\n",
       "</tr>\n",
       "<tr>\n",
       "  <th>older_than65</th>                 <td>   -0.0756</td> <td>    0.012</td> <td>   -6.458</td> <td> 0.000</td> <td>   -0.099</td> <td>   -0.053</td>\n",
       "</tr>\n",
       "<tr>\n",
       "  <th>age_na</th>                       <td>    1.6827</td> <td>    0.235</td> <td>    7.149</td> <td> 0.000</td> <td>    1.221</td> <td>    2.144</td>\n",
       "</tr>\n",
       "<tr>\n",
       "  <th>income_log</th>                   <td>   -0.1237</td> <td>    0.006</td> <td>  -20.013</td> <td> 0.000</td> <td>   -0.136</td> <td>   -0.112</td>\n",
       "</tr>\n",
       "<tr>\n",
       "  <th>loan_log</th>                     <td>    0.4680</td> <td>    0.007</td> <td>   69.655</td> <td> 0.000</td> <td>    0.455</td> <td>    0.481</td>\n",
       "</tr>\n",
       "<tr>\n",
       "  <th>property_value_ratio</th>         <td>   -0.0620</td> <td>    0.002</td> <td>  -29.112</td> <td> 0.000</td> <td>   -0.066</td> <td>   -0.058</td>\n",
       "</tr>\n",
       "<tr>\n",
       "  <th>less30yrs_mortgage</th>           <td>   -0.0170</td> <td>    0.011</td> <td>   -1.559</td> <td> 0.119</td> <td>   -0.038</td> <td>    0.004</td>\n",
       "</tr>\n",
       "<tr>\n",
       "  <th>more30yrs_mortgage</th>           <td>    0.4595</td> <td>    0.023</td> <td>   20.272</td> <td> 0.000</td> <td>    0.415</td> <td>    0.504</td>\n",
       "</tr>\n",
       "<tr>\n",
       "  <th>equifax</th>                      <td>   -0.0356</td> <td>    0.007</td> <td>   -5.161</td> <td> 0.000</td> <td>   -0.049</td> <td>   -0.022</td>\n",
       "</tr>\n",
       "<tr>\n",
       "  <th>experian</th>                     <td>    0.0473</td> <td>    0.007</td> <td>    6.476</td> <td> 0.000</td> <td>    0.033</td> <td>    0.062</td>\n",
       "</tr>\n",
       "<tr>\n",
       "  <th>other_model</th>                  <td>    0.8627</td> <td>    0.019</td> <td>   44.374</td> <td> 0.000</td> <td>    0.825</td> <td>    0.901</td>\n",
       "</tr>\n",
       "<tr>\n",
       "  <th>more_than_one</th>                <td>   -0.2460</td> <td>    0.018</td> <td>  -13.784</td> <td> 0.000</td> <td>   -0.281</td> <td>   -0.211</td>\n",
       "</tr>\n",
       "<tr>\n",
       "  <th>model_na</th>                     <td>    0.2788</td> <td>    0.011</td> <td>   25.146</td> <td> 0.000</td> <td>    0.257</td> <td>    0.301</td>\n",
       "</tr>\n",
       "<tr>\n",
       "  <th>dti_manageable</th>               <td>    0.0115</td> <td>    0.007</td> <td>    1.588</td> <td> 0.112</td> <td>   -0.003</td> <td>    0.026</td>\n",
       "</tr>\n",
       "<tr>\n",
       "  <th>dti_unmanageable</th>             <td>    0.3002</td> <td>    0.008</td> <td>   39.945</td> <td> 0.000</td> <td>    0.286</td> <td>    0.315</td>\n",
       "</tr>\n",
       "<tr>\n",
       "  <th>dti_struggling</th>               <td>    4.3050</td> <td>    0.011</td> <td>  406.727</td> <td> 0.000</td> <td>    4.284</td> <td>    4.326</td>\n",
       "</tr>\n",
       "<tr>\n",
       "  <th>combined_loan_to_value_ratio</th> <td>   -0.0106</td> <td>    0.000</td> <td>  -50.200</td> <td> 0.000</td> <td>   -0.011</td> <td>   -0.010</td>\n",
       "</tr>\n",
       "<tr>\n",
       "  <th>moderate_lmi</th>                 <td>    0.0803</td> <td>    0.009</td> <td>    8.854</td> <td> 0.000</td> <td>    0.063</td> <td>    0.098</td>\n",
       "</tr>\n",
       "<tr>\n",
       "  <th>middle_lmi</th>                   <td>    0.0179</td> <td>    0.006</td> <td>    2.794</td> <td> 0.005</td> <td>    0.005</td> <td>    0.030</td>\n",
       "</tr>\n",
       "<tr>\n",
       "  <th>low_lmi</th>                      <td>    0.1541</td> <td>    0.017</td> <td>    8.888</td> <td> 0.000</td> <td>    0.120</td> <td>    0.188</td>\n",
       "</tr>\n",
       "<tr>\n",
       "  <th>credit_union</th>                 <td>    0.0429</td> <td>    0.011</td> <td>    4.016</td> <td> 0.000</td> <td>    0.022</td> <td>    0.064</td>\n",
       "</tr>\n",
       "<tr>\n",
       "  <th>independent</th>                  <td>   -0.3423</td> <td>    0.006</td> <td>  -56.452</td> <td> 0.000</td> <td>   -0.354</td> <td>   -0.330</td>\n",
       "</tr>\n",
       "<tr>\n",
       "  <th>lender_na</th>                    <td>   -0.5349</td> <td>    0.062</td> <td>   -8.664</td> <td> 0.000</td> <td>   -0.656</td> <td>   -0.414</td>\n",
       "</tr>\n",
       "<tr>\n",
       "  <th>lar_count</th>                    <td>-7.509e-07</td> <td>    1e-08</td> <td>  -75.044</td> <td> 0.000</td> <td>-7.71e-07</td> <td>-7.31e-07</td>\n",
       "</tr>\n",
       "<tr>\n",
       "  <th>white_cat2</th>                   <td>    0.1268</td> <td>    0.007</td> <td>   18.580</td> <td> 0.000</td> <td>    0.113</td> <td>    0.140</td>\n",
       "</tr>\n",
       "<tr>\n",
       "  <th>white_cat3</th>                   <td>    0.2452</td> <td>    0.009</td> <td>   27.760</td> <td> 0.000</td> <td>    0.228</td> <td>    0.263</td>\n",
       "</tr>\n",
       "<tr>\n",
       "  <th>white_cat4</th>                   <td>    0.3950</td> <td>    0.011</td> <td>   35.628</td> <td> 0.000</td> <td>    0.373</td> <td>    0.417</td>\n",
       "</tr>\n",
       "<tr>\n",
       "  <th>metro_90th</th>                   <td>   -0.1287</td> <td>    0.009</td> <td>  -14.668</td> <td> 0.000</td> <td>   -0.146</td> <td>   -0.112</td>\n",
       "</tr>\n",
       "<tr>\n",
       "  <th>metro_80th</th>                   <td>   -0.1672</td> <td>    0.010</td> <td>  -16.205</td> <td> 0.000</td> <td>   -0.187</td> <td>   -0.147</td>\n",
       "</tr>\n",
       "<tr>\n",
       "  <th>metro_70th</th>                   <td>   -0.1703</td> <td>    0.012</td> <td>  -14.165</td> <td> 0.000</td> <td>   -0.194</td> <td>   -0.147</td>\n",
       "</tr>\n",
       "<tr>\n",
       "  <th>metro_60th</th>                   <td>   -0.2182</td> <td>    0.014</td> <td>  -15.068</td> <td> 0.000</td> <td>   -0.247</td> <td>   -0.190</td>\n",
       "</tr>\n",
       "<tr>\n",
       "  <th>metro_50th</th>                   <td>   -0.2228</td> <td>    0.017</td> <td>  -13.215</td> <td> 0.000</td> <td>   -0.256</td> <td>   -0.190</td>\n",
       "</tr>\n",
       "<tr>\n",
       "  <th>metro_40th</th>                   <td>   -0.2589</td> <td>    0.019</td> <td>  -13.359</td> <td> 0.000</td> <td>   -0.297</td> <td>   -0.221</td>\n",
       "</tr>\n",
       "<tr>\n",
       "  <th>metro_30th</th>                   <td>   -0.2531</td> <td>    0.021</td> <td>  -11.957</td> <td> 0.000</td> <td>   -0.295</td> <td>   -0.212</td>\n",
       "</tr>\n",
       "<tr>\n",
       "  <th>metro_20th</th>                   <td>   -0.1726</td> <td>    0.024</td> <td>   -7.175</td> <td> 0.000</td> <td>   -0.220</td> <td>   -0.125</td>\n",
       "</tr>\n",
       "<tr>\n",
       "  <th>metro_10th</th>                   <td>   -0.2290</td> <td>    0.027</td> <td>   -8.539</td> <td> 0.000</td> <td>   -0.282</td> <td>   -0.176</td>\n",
       "</tr>\n",
       "<tr>\n",
       "  <th>metro_less10th</th>               <td>   -0.2208</td> <td>    0.031</td> <td>   -7.082</td> <td> 0.000</td> <td>   -0.282</td> <td>   -0.160</td>\n",
       "</tr>\n",
       "<tr>\n",
       "  <th>micro_area</th>                   <td>    0.0490</td> <td>    0.014</td> <td>    3.507</td> <td> 0.000</td> <td>    0.022</td> <td>    0.076</td>\n",
       "</tr>\n",
       "<tr>\n",
       "  <th>metro_none</th>                   <td>    0.2366</td> <td>    0.016</td> <td>   14.400</td> <td> 0.000</td> <td>    0.204</td> <td>    0.269</td>\n",
       "</tr>\n",
       "</table>"
      ],
      "text/plain": [
       "<class 'statsmodels.iolib.summary.Summary'>\n",
       "\"\"\"\n",
       "                           Logit Regression Results                           \n",
       "==============================================================================\n",
       "Dep. Variable:                 denied   No. Observations:              3112469\n",
       "Model:                          Logit   Df Residuals:                  3112417\n",
       "Method:                           MLE   Df Model:                           51\n",
       "Date:                Sat, 27 Aug 2022   Pseudo R-squ.:                  0.2190\n",
       "Time:                        21:19:36   Log-Likelihood:            -5.6148e+05\n",
       "converged:                       True   LL-Null:                   -7.1894e+05\n",
       "Covariance Type:            nonrobust   LLR p-value:                     0.000\n",
       "================================================================================================\n",
       "                                   coef    std err          z      P>|z|      [0.025      0.975]\n",
       "------------------------------------------------------------------------------------------------\n",
       "Intercept                      -10.1011      0.301    -33.523      0.000     -10.692      -9.511\n",
       "black                            0.6718      0.011     63.527      0.000       0.651       0.693\n",
       "latino                           0.4198      0.009     47.740      0.000       0.403       0.437\n",
       "asian_cb                         0.4084      0.010     42.260      0.000       0.390       0.427\n",
       "native                           0.5180      0.035     14.952      0.000       0.450       0.586\n",
       "race_na                          0.4202      0.010     40.914      0.000       0.400       0.440\n",
       "no_coapplicant                   0.2623      0.006     42.125      0.000       0.250       0.275\n",
       "na_coapplicant                   0.3959      0.111      3.579      0.000       0.179       0.613\n",
       "female                          -0.0792      0.006    -13.341      0.000      -0.091      -0.068\n",
       "sex_na                           0.2028      0.013     15.414      0.000       0.177       0.229\n",
       "less_than25                     -0.0287      0.013     -2.177      0.030      -0.055      -0.003\n",
       "between25_34                    -0.2080      0.007    -28.310      0.000      -0.222      -0.194\n",
       "between45_54                     0.1407      0.008     17.497      0.000       0.125       0.157\n",
       "between55_64                     0.1076      0.009     11.551      0.000       0.089       0.126\n",
       "older_than65                    -0.0756      0.012     -6.458      0.000      -0.099      -0.053\n",
       "age_na                           1.6827      0.235      7.149      0.000       1.221       2.144\n",
       "income_log                      -0.1237      0.006    -20.013      0.000      -0.136      -0.112\n",
       "loan_log                         0.4680      0.007     69.655      0.000       0.455       0.481\n",
       "property_value_ratio            -0.0620      0.002    -29.112      0.000      -0.066      -0.058\n",
       "less30yrs_mortgage              -0.0170      0.011     -1.559      0.119      -0.038       0.004\n",
       "more30yrs_mortgage               0.4595      0.023     20.272      0.000       0.415       0.504\n",
       "equifax                         -0.0356      0.007     -5.161      0.000      -0.049      -0.022\n",
       "experian                         0.0473      0.007      6.476      0.000       0.033       0.062\n",
       "other_model                      0.8627      0.019     44.374      0.000       0.825       0.901\n",
       "more_than_one                   -0.2460      0.018    -13.784      0.000      -0.281      -0.211\n",
       "model_na                         0.2788      0.011     25.146      0.000       0.257       0.301\n",
       "dti_manageable                   0.0115      0.007      1.588      0.112      -0.003       0.026\n",
       "dti_unmanageable                 0.3002      0.008     39.945      0.000       0.286       0.315\n",
       "dti_struggling                   4.3050      0.011    406.727      0.000       4.284       4.326\n",
       "combined_loan_to_value_ratio    -0.0106      0.000    -50.200      0.000      -0.011      -0.010\n",
       "moderate_lmi                     0.0803      0.009      8.854      0.000       0.063       0.098\n",
       "middle_lmi                       0.0179      0.006      2.794      0.005       0.005       0.030\n",
       "low_lmi                          0.1541      0.017      8.888      0.000       0.120       0.188\n",
       "credit_union                     0.0429      0.011      4.016      0.000       0.022       0.064\n",
       "independent                     -0.3423      0.006    -56.452      0.000      -0.354      -0.330\n",
       "lender_na                       -0.5349      0.062     -8.664      0.000      -0.656      -0.414\n",
       "lar_count                    -7.509e-07      1e-08    -75.044      0.000   -7.71e-07   -7.31e-07\n",
       "white_cat2                       0.1268      0.007     18.580      0.000       0.113       0.140\n",
       "white_cat3                       0.2452      0.009     27.760      0.000       0.228       0.263\n",
       "white_cat4                       0.3950      0.011     35.628      0.000       0.373       0.417\n",
       "metro_90th                      -0.1287      0.009    -14.668      0.000      -0.146      -0.112\n",
       "metro_80th                      -0.1672      0.010    -16.205      0.000      -0.187      -0.147\n",
       "metro_70th                      -0.1703      0.012    -14.165      0.000      -0.194      -0.147\n",
       "metro_60th                      -0.2182      0.014    -15.068      0.000      -0.247      -0.190\n",
       "metro_50th                      -0.2228      0.017    -13.215      0.000      -0.256      -0.190\n",
       "metro_40th                      -0.2589      0.019    -13.359      0.000      -0.297      -0.221\n",
       "metro_30th                      -0.2531      0.021    -11.957      0.000      -0.295      -0.212\n",
       "metro_20th                      -0.1726      0.024     -7.175      0.000      -0.220      -0.125\n",
       "metro_10th                      -0.2290      0.027     -8.539      0.000      -0.282      -0.176\n",
       "metro_less10th                  -0.2208      0.031     -7.082      0.000      -0.282      -0.160\n",
       "micro_area                       0.0490      0.014      3.507      0.000       0.022       0.076\n",
       "metro_none                       0.2366      0.016     14.400      0.000       0.204       0.269\n",
       "================================================================================================\n",
       "\"\"\""
      ]
     },
     "execution_count": 22,
     "metadata": {},
     "output_type": "execute_result"
    }
   ],
   "source": [
    "model = run_regression(data = hmda21_df4, formula = regression_formula).fit()\n",
    "model.summary()"
   ]
  },
  {
   "cell_type": "code",
   "execution_count": 23,
   "id": "edb6d9d5",
   "metadata": {},
   "outputs": [],
   "source": [
    "def convert_results_to_df(model):\n",
    "    '''\n",
    "    Convert the summary results from regression into dataframe\n",
    "    '''\n",
    "    \n",
    "    coef_dict = {'results': dict(model.params), 'col_name': 'coefficient'}\n",
    "    std_error_dict = {'results': dict(model.bse), 'col_name': 'standard_error'}\n",
    "    tvalues_dict = {'results': dict(model.tvalues), 'col_name': 'z_value'}\n",
    "    pvalues_dict = {'results': dict(model.pvalues), 'col_name': 'p_value'}\n",
    "    oddsratio_dict = {'results': dict(np.exp(model.params)), 'col_name': 'odds_ratio'}\n",
    "    \n",
    "    results_dicts = [coef_dict, std_error_dict, tvalues_dict, pvalues_dict, oddsratio_dict]\n",
    "    \n",
    "    dfs = []    \n",
    "    for results_dict in results_dicts:\n",
    "        col_name = results_dict['col_name']\n",
    "        df = pd.DataFrame.from_dict(results_dict['results'], orient = 'index').reset_index().rename(columns = {'index': 'variable_name', 0: col_name})\n",
    "        dfs.append(df)\n",
    "\n",
    "    \n",
    "    results_df = reduce(lambda left, right: pd.merge(left, right, on = ['variable_name']), dfs)\n",
    "    results_df.insert(1, 'pseudo_rsquared', model.prsquared)\n",
    "    \n",
    "    return results_df"
   ]
  },
  {
   "cell_type": "code",
   "execution_count": 24,
   "id": "earned-hindu",
   "metadata": {
    "scrolled": true
   },
   "outputs": [
    {
     "data": {
      "text/html": [
       "<div>\n",
       "<style scoped>\n",
       "    .dataframe tbody tr th:only-of-type {\n",
       "        vertical-align: middle;\n",
       "    }\n",
       "\n",
       "    .dataframe tbody tr th {\n",
       "        vertical-align: top;\n",
       "    }\n",
       "\n",
       "    .dataframe thead th {\n",
       "        text-align: right;\n",
       "    }\n",
       "</style>\n",
       "<table border=\"1\" class=\"dataframe\">\n",
       "  <thead>\n",
       "    <tr style=\"text-align: right;\">\n",
       "      <th></th>\n",
       "      <th>variable_name</th>\n",
       "      <th>pseudo_rsquared</th>\n",
       "      <th>coefficient</th>\n",
       "      <th>standard_error</th>\n",
       "      <th>z_value</th>\n",
       "      <th>p_value</th>\n",
       "      <th>odds_ratio</th>\n",
       "    </tr>\n",
       "  </thead>\n",
       "  <tbody>\n",
       "    <tr>\n",
       "      <th>1</th>\n",
       "      <td>black</td>\n",
       "      <td>0.219017</td>\n",
       "      <td>0.671828</td>\n",
       "      <td>0.010575</td>\n",
       "      <td>63.527119</td>\n",
       "      <td>0.000000e+00</td>\n",
       "      <td>1.957813</td>\n",
       "    </tr>\n",
       "    <tr>\n",
       "      <th>2</th>\n",
       "      <td>latino</td>\n",
       "      <td>0.219017</td>\n",
       "      <td>0.419847</td>\n",
       "      <td>0.008794</td>\n",
       "      <td>47.739928</td>\n",
       "      <td>0.000000e+00</td>\n",
       "      <td>1.521729</td>\n",
       "    </tr>\n",
       "    <tr>\n",
       "      <th>3</th>\n",
       "      <td>asian_cb</td>\n",
       "      <td>0.219017</td>\n",
       "      <td>0.408447</td>\n",
       "      <td>0.009665</td>\n",
       "      <td>42.260345</td>\n",
       "      <td>0.000000e+00</td>\n",
       "      <td>1.504479</td>\n",
       "    </tr>\n",
       "    <tr>\n",
       "      <th>4</th>\n",
       "      <td>native</td>\n",
       "      <td>0.219017</td>\n",
       "      <td>0.518002</td>\n",
       "      <td>0.034644</td>\n",
       "      <td>14.952358</td>\n",
       "      <td>1.503309e-50</td>\n",
       "      <td>1.678670</td>\n",
       "    </tr>\n",
       "  </tbody>\n",
       "</table>\n",
       "</div>"
      ],
      "text/plain": [
       "  variable_name  pseudo_rsquared  coefficient  standard_error    z_value  \\\n",
       "1         black         0.219017     0.671828        0.010575  63.527119   \n",
       "2        latino         0.219017     0.419847        0.008794  47.739928   \n",
       "3      asian_cb         0.219017     0.408447        0.009665  42.260345   \n",
       "4        native         0.219017     0.518002        0.034644  14.952358   \n",
       "\n",
       "        p_value  odds_ratio  \n",
       "1  0.000000e+00    1.957813  \n",
       "2  0.000000e+00    1.521729  \n",
       "3  0.000000e+00    1.504479  \n",
       "4  1.503309e-50    1.678670  "
      ]
     },
     "execution_count": 24,
     "metadata": {},
     "output_type": "execute_result"
    }
   ],
   "source": [
    "national_findings_df = convert_results_to_df(model)\n",
    "\n",
    "races = ['black', 'latino', 'native', 'asian_cb']\n",
    "national_findings_df[(national_findings_df['variable_name'].isin(races))]"
   ]
  },
  {
   "cell_type": "code",
   "execution_count": null,
   "id": "049b180b",
   "metadata": {},
   "outputs": [],
   "source": []
  },
  {
   "cell_type": "markdown",
   "id": "breeding-vessel",
   "metadata": {},
   "source": [
    "#### DTI Categories Findings"
   ]
  },
  {
   "cell_type": "code",
   "execution_count": 25,
   "id": "medium-competition",
   "metadata": {},
   "outputs": [
    {
     "data": {
      "text/html": [
       "<div>\n",
       "<style scoped>\n",
       "    .dataframe tbody tr th:only-of-type {\n",
       "        vertical-align: middle;\n",
       "    }\n",
       "\n",
       "    .dataframe tbody tr th {\n",
       "        vertical-align: top;\n",
       "    }\n",
       "\n",
       "    .dataframe thead th {\n",
       "        text-align: right;\n",
       "    }\n",
       "</style>\n",
       "<table border=\"1\" class=\"dataframe\">\n",
       "  <thead>\n",
       "    <tr style=\"text-align: right;\">\n",
       "      <th></th>\n",
       "      <th>variable_name</th>\n",
       "      <th>pseudo_rsquared</th>\n",
       "      <th>coefficient</th>\n",
       "      <th>standard_error</th>\n",
       "      <th>z_value</th>\n",
       "      <th>p_value</th>\n",
       "      <th>odds_ratio</th>\n",
       "    </tr>\n",
       "  </thead>\n",
       "  <tbody>\n",
       "    <tr>\n",
       "      <th>26</th>\n",
       "      <td>dti_manageable</td>\n",
       "      <td>0.219017</td>\n",
       "      <td>0.011464</td>\n",
       "      <td>0.007218</td>\n",
       "      <td>1.588348</td>\n",
       "      <td>0.112208</td>\n",
       "      <td>1.011530</td>\n",
       "    </tr>\n",
       "    <tr>\n",
       "      <th>27</th>\n",
       "      <td>dti_unmanageable</td>\n",
       "      <td>0.219017</td>\n",
       "      <td>0.300234</td>\n",
       "      <td>0.007516</td>\n",
       "      <td>39.945139</td>\n",
       "      <td>0.000000</td>\n",
       "      <td>1.350175</td>\n",
       "    </tr>\n",
       "    <tr>\n",
       "      <th>28</th>\n",
       "      <td>dti_struggling</td>\n",
       "      <td>0.219017</td>\n",
       "      <td>4.304976</td>\n",
       "      <td>0.010584</td>\n",
       "      <td>406.727169</td>\n",
       "      <td>0.000000</td>\n",
       "      <td>74.067422</td>\n",
       "    </tr>\n",
       "  </tbody>\n",
       "</table>\n",
       "</div>"
      ],
      "text/plain": [
       "       variable_name  pseudo_rsquared  coefficient  standard_error  \\\n",
       "26    dti_manageable         0.219017     0.011464        0.007218   \n",
       "27  dti_unmanageable         0.219017     0.300234        0.007516   \n",
       "28    dti_struggling         0.219017     4.304976        0.010584   \n",
       "\n",
       "       z_value   p_value  odds_ratio  \n",
       "26    1.588348  0.112208    1.011530  \n",
       "27   39.945139  0.000000    1.350175  \n",
       "28  406.727169  0.000000   74.067422  "
      ]
     },
     "execution_count": 25,
     "metadata": {},
     "output_type": "execute_result"
    }
   ],
   "source": [
    "dti_vars = ['dti_manageable', 'dti_unmanageable', 'dti_struggling']\n",
    "\n",
    "national_findings_df[(national_findings_df['variable_name'].isin(dti_vars))]"
   ]
  },
  {
   "cell_type": "code",
   "execution_count": 26,
   "id": "bulgarian-munich",
   "metadata": {},
   "outputs": [],
   "source": [
    "national_findings_df.to_csv('C:\\Temp\\overall_findings.csv',index = False)"
   ]
  },
  {
   "cell_type": "code",
   "execution_count": 27,
   "id": "7cba0bef",
   "metadata": {},
   "outputs": [
    {
     "data": {
      "text/plain": [
       "<AxesSubplot:xlabel='variable_name'>"
      ]
     },
     "execution_count": 27,
     "metadata": {},
     "output_type": "execute_result"
    },
    {
     "data": {
      "image/png": "[encoded data removed]",
      "text/plain": [
       "<Figure size 432x288 with 1 Axes>"
      ]
     },
     "metadata": {
      "needs_background": "light"
     },
     "output_type": "display_data"
    }
   ],
   "source": [
    "national_findings_df[(national_findings_df['variable_name'].isin(races))].plot(x=\"variable_name\", y=\"odds_ratio\", kind=\"bar\")"
   ]
  },
  {
   "cell_type": "markdown",
   "id": "39d9bd15",
   "metadata": {},
   "source": [
    "### 5. Findings:\n",
    "#### Racial and ethnic findings\n",
    "- Black applicants are almost twice as likely to be denied \n",
    "- Latinx/Hispanic are almost 1.5 times\n",
    "- Native Applicants are 1.7 times\n",
    "- Asian/Pacific Isalnder are 1.5"
   ]
  },
  {
   "cell_type": "markdown",
   "id": "devoted-market",
   "metadata": {},
   "source": [
    "### 6. Additional statistical tests\n",
    "#### Check for collinearity again"
   ]
  },
  {
   "cell_type": "code",
   "execution_count": 28,
   "id": "rubber-numbers",
   "metadata": {},
   "outputs": [
    {
     "name": "stderr",
     "output_type": "stream",
     "text": [
      "100%|██████████| 51/51 [12:58<00:00, 15.26s/it]\n"
     ]
    }
   ],
   "source": [
    "cols = national_findings_df['variable_name'].unique().tolist()[1:]\n",
    "\n",
    "hmda_independent_vars2 = hmda21_df4[cols]\n",
    "vif_df2 = calculate_vif(hmda_independent_vars2)"
   ]
  },
  {
   "cell_type": "markdown",
   "id": "exposed-guyana",
   "metadata": {},
   "source": [
    "No new additional varibales that are collinear"
   ]
  },
  {
   "cell_type": "code",
   "execution_count": 29,
   "id": "clinical-boutique",
   "metadata": {},
   "outputs": [
    {
     "data": {
      "text/html": [
       "<div>\n",
       "<style scoped>\n",
       "    .dataframe tbody tr th:only-of-type {\n",
       "        vertical-align: middle;\n",
       "    }\n",
       "\n",
       "    .dataframe tbody tr th {\n",
       "        vertical-align: top;\n",
       "    }\n",
       "\n",
       "    .dataframe thead th {\n",
       "        text-align: right;\n",
       "    }\n",
       "</style>\n",
       "<table border=\"1\" class=\"dataframe\">\n",
       "  <thead>\n",
       "    <tr style=\"text-align: right;\">\n",
       "      <th></th>\n",
       "      <th>independent_var</th>\n",
       "      <th>vif</th>\n",
       "      <th>threshold</th>\n",
       "    </tr>\n",
       "  </thead>\n",
       "  <tbody>\n",
       "    <tr>\n",
       "      <th>15</th>\n",
       "      <td>income_log</td>\n",
       "      <td>2.92</td>\n",
       "      <td>1</td>\n",
       "    </tr>\n",
       "    <tr>\n",
       "      <th>16</th>\n",
       "      <td>loan_log</td>\n",
       "      <td>2.84</td>\n",
       "      <td>1</td>\n",
       "    </tr>\n",
       "    <tr>\n",
       "      <th>39</th>\n",
       "      <td>metro_90th</td>\n",
       "      <td>2.74</td>\n",
       "      <td>1</td>\n",
       "    </tr>\n",
       "  </tbody>\n",
       "</table>\n",
       "</div>"
      ],
      "text/plain": [
       "   independent_var   vif threshold\n",
       "15      income_log  2.92         1\n",
       "16        loan_log  2.84         1\n",
       "39      metro_90th  2.74         1"
      ]
     },
     "execution_count": 29,
     "metadata": {},
     "output_type": "execute_result"
    }
   ],
   "source": [
    "vif_df2[(vif_df2['threshold'] == '1')]"
   ]
  },
  {
   "cell_type": "markdown",
   "id": "attempted-manner",
   "metadata": {},
   "source": [
    "#### Calculate Confusion Matrix"
   ]
  },
  {
   "cell_type": "code",
   "execution_count": 30,
   "id": "68475587",
   "metadata": {},
   "outputs": [],
   "source": [
    "def calcuate_confusion_matrix(df, model, indepndent_vars, dependent_vars):\n",
    "    '''\n",
    "    Calculate confusion matrix\n",
    "    '''\n",
    "    \n",
    "    \n",
    "    testX = df[indepndent_vars]\n",
    "    testY = df[dependent_vars]\n",
    "    \n",
    "    \n",
    "    yhat = model.predict(testX)\n",
    "    prediction = list(map(round, yhat))\n",
    "    \n",
    "    cm = confusion_matrix(testY, prediction)  \n",
    "    print (\"Confusion Matrix : \\n\", cm)\n",
    "    \n",
    "    # accuracy score of the model \n",
    "    print('Overall accuracy: ', accuracy_score(testY, prediction) * 100)\n",
    "    print('Denied accuracy: ', (cm[0, 0]/(cm[0, 0] + cm[0, 1])) * 100)\n",
    "    print('Loan accuracy : ', (cm[1, 1]/(cm[1, 0] + cm[1, 1])) * 100)\n",
    "    "
   ]
  },
  {
   "cell_type": "code",
   "execution_count": 31,
   "id": "sensitive-credit",
   "metadata": {},
   "outputs": [
    {
     "name": "stderr",
     "output_type": "stream",
     "text": [
      "C:\\Users\\sumit.kamarajugadda\\anaconda3\\lib\\site-packages\\statsmodels\\discrete\\discrete_model.py:1819: RuntimeWarning: overflow encountered in exp\n",
      "  return 1/(1+np.exp(-X))\n"
     ]
    },
    {
     "name": "stdout",
     "output_type": "stream",
     "text": [
      "Confusion Matrix : \n",
      " [[  62929  142503]\n",
      " [  20717 2936936]]\n",
      "Overall accuracy:  94.83984780680886\n",
      "Denied accuracy:  30.632520736788816\n",
      "Loan accuracy :  99.29954595755486\n"
     ]
    }
   ],
   "source": [
    "calcuate_confusion_matrix(hmda21_df3, model, cols, ['denied'])"
   ]
  },
  {
   "cell_type": "markdown",
   "id": "crude-sponsorship",
   "metadata": {},
   "source": [
    "### 7. Export Findings and Data\n"
   ]
  },
  {
   "cell_type": "code",
   "execution_count": 32,
   "id": "ec3dcc3e",
   "metadata": {},
   "outputs": [],
   "source": [
    "cols_to_export = cols + ['denied', 'loan_outcome', 'younger_than_34', 'older_than_55', 'not30yr_mortgage', \n",
    "                         'metro_code', 'lei', 'app_race_ethnicity', 'app_credit_model', 'property_value_ratio']"
   ]
  },
  {
   "cell_type": "code",
   "execution_count": 35,
   "id": "cc1224ce",
   "metadata": {},
   "outputs": [],
   "source": [
    "hmda21_df5 = hmda21_df4[cols_to_export]\n",
    "hmda21_df5.to_csv('c:/temp/hmda2021_regressiondata_1.csv', index = False)"
   ]
  },
  {
   "cell_type": "code",
   "execution_count": null,
   "id": "0a16faac",
   "metadata": {},
   "outputs": [],
   "source": []
  }
 ],
 "metadata": {
  "kernelspec": {
   "display_name": "Python 3 (ipykernel)",
   "language": "python",
   "name": "python3"
  },
  "language_info": {
   "codemirror_mode": {
    "name": "ipython",
    "version": 3
   },
   "file_extension": ".py",
   "mimetype": "text/x-python",
   "name": "python",
   "nbconvert_exporter": "python",
   "pygments_lexer": "ipython3",
   "version": "3.9.12"
  }
 },
 "nbformat": 4,
 "nbformat_minor": 5
}
